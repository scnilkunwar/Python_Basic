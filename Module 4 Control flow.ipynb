{
 "cells": [
  {
   "cell_type": "markdown",
   "id": "d070328e",
   "metadata": {},
   "source": [
    "# Booleans"
   ]
  },
  {
   "cell_type": "code",
   "execution_count": 4,
   "id": "fd7c6019",
   "metadata": {},
   "outputs": [
    {
     "name": "stdout",
     "output_type": "stream",
     "text": [
      "True False\n"
     ]
    }
   ],
   "source": [
    "x = True\n",
    "y = False\n",
    "print(x, y)"
   ]
  },
  {
   "cell_type": "code",
   "execution_count": 5,
   "id": "e225dfec",
   "metadata": {},
   "outputs": [
    {
     "name": "stdout",
     "output_type": "stream",
     "text": [
      "True\n",
      "False\n",
      "True\n",
      "True\n"
     ]
    }
   ],
   "source": [
    "print(7 != 6)\n",
    "print(4 == 5)\n",
    "print(5 >= 3)\n",
    "print(3 <= 8)"
   ]
  },
  {
   "cell_type": "code",
   "execution_count": 7,
   "id": "9b60527c",
   "metadata": {},
   "outputs": [
    {
     "name": "stdout",
     "output_type": "stream",
     "text": [
      "True\n"
     ]
    }
   ],
   "source": [
    "# comparing string alphabetically\n",
    "\n",
    "print('hey' > 'hay')"
   ]
  },
  {
   "cell_type": "markdown",
   "id": "69c91735",
   "metadata": {},
   "source": [
    "# if statemets"
   ]
  },
  {
   "cell_type": "code",
   "execution_count": 9,
   "id": "7b4a1626",
   "metadata": {},
   "outputs": [
    {
     "name": "stdout",
     "output_type": "stream",
     "text": [
      "greater then 5\n"
     ]
    }
   ],
   "source": [
    "#  syntax\n",
    "#  if <condition> :\n",
    "#      <statements>\n",
    "\n",
    "x = 8\n",
    "if x > 5:\n",
    "    print(\"greater then 5\")"
   ]
  },
  {
   "cell_type": "code",
   "execution_count": 10,
   "id": "83d9284b",
   "metadata": {},
   "outputs": [
    {
     "name": "stdout",
     "output_type": "stream",
     "text": [
      "greater then 5\n",
      "between 5 and 15\n"
     ]
    }
   ],
   "source": [
    "#  nested if\n",
    "\n",
    "x = 10\n",
    "if x > 5:\n",
    "    print('greater then 5')\n",
    "    if x < 15:\n",
    "        print('between 5 and 15')\n",
    "        if x == 8:\n",
    "            print('equal to 8')"
   ]
  },
  {
   "cell_type": "markdown",
   "id": "41e802ca",
   "metadata": {},
   "source": [
    "# else statements"
   ]
  },
  {
   "cell_type": "markdown",
   "id": "e0ff58cb",
   "metadata": {},
   "source": [
    "The **else** statement can be used to run some statements when the condition of the **if** statement is **False**"
   ]
  },
  {
   "cell_type": "code",
   "execution_count": 11,
   "id": "2290f303",
   "metadata": {},
   "outputs": [
    {
     "name": "stdout",
     "output_type": "stream",
     "text": [
      "False\n"
     ]
    }
   ],
   "source": [
    "# syntax\n",
    "# if .....:\n",
    "#    .....\n",
    "# else:\n",
    "#  <statements>\n",
    "\n",
    "if False:\n",
    "    print(True)\n",
    "else:\n",
    "    print(False)"
   ]
  },
  {
   "cell_type": "code",
   "execution_count": 12,
   "id": "21bdb8f4",
   "metadata": {},
   "outputs": [
    {
     "name": "stdout",
     "output_type": "stream",
     "text": [
      "three\n"
     ]
    }
   ],
   "source": [
    "# nested if else\n",
    "\n",
    "num = 3\n",
    "if num == 1:\n",
    "    print('one')\n",
    "else:\n",
    "    if(num == 2):\n",
    "        print('two')\n",
    "    if(num == 3):\n",
    "        print('three')\n",
    "    else:\n",
    "        print('else')"
   ]
  },
  {
   "cell_type": "markdown",
   "id": "872ead3e",
   "metadata": {},
   "source": [
    "# elif statements"
   ]
  },
  {
   "cell_type": "code",
   "execution_count": 14,
   "id": "13d5626a",
   "metadata": {},
   "outputs": [
    {
     "name": "stdout",
     "output_type": "stream",
     "text": [
      "Second Division\n"
     ]
    }
   ],
   "source": [
    "# syntax\n",
    "# if ... :\n",
    "#     .....\n",
    "# elif <condition:\n",
    "#     <statements>\n",
    "# else:\n",
    "#     .....\n",
    "\n",
    "mark = 55\n",
    "if mark >= 80:\n",
    "    print('Distinction')\n",
    "elif mark >= 60:\n",
    "    print('First Division')\n",
    "elif mark >= 40:\n",
    "    print('Second Division')\n",
    "elif mark >= 30:\n",
    "    print('Third Division')\n",
    "else:\n",
    "    print('Fail')"
   ]
  },
  {
   "cell_type": "markdown",
   "id": "b24aae3e",
   "metadata": {},
   "source": [
    "# Boolean Logic"
   ]
  },
  {
   "cell_type": "markdown",
   "id": "7d41ba81",
   "metadata": {},
   "source": [
    "### and\n",
    "It is **True**, if both conditions evaluate to **True**"
   ]
  },
  {
   "cell_type": "code",
   "execution_count": 15,
   "id": "21725322",
   "metadata": {},
   "outputs": [
    {
     "name": "stdout",
     "output_type": "stream",
     "text": [
      "True\n",
      "False\n"
     ]
    }
   ],
   "source": [
    "print(True and True)\n",
    "print(False and True)"
   ]
  },
  {
   "cell_type": "code",
   "execution_count": 16,
   "id": "1bf8bc90",
   "metadata": {},
   "outputs": [
    {
     "name": "stdout",
     "output_type": "stream",
     "text": [
      "True\n"
     ]
    }
   ],
   "source": [
    "if 2 == 2 and 6 > 3:\n",
    "    print(True)\n",
    "else:\n",
    "    print(False)"
   ]
  },
  {
   "cell_type": "markdown",
   "id": "e9356556",
   "metadata": {},
   "source": [
    "### or\n",
    "It is **True** if either (or both) of its conditions are **True**, and **False** if both conditions are **False**"
   ]
  },
  {
   "cell_type": "code",
   "execution_count": 18,
   "id": "b933602f",
   "metadata": {},
   "outputs": [
    {
     "name": "stdout",
     "output_type": "stream",
     "text": [
      "True\n",
      "True\n",
      "False\n"
     ]
    }
   ],
   "source": [
    "print(True or True)\n",
    "print(True or False)\n",
    "print(False or False)"
   ]
  },
  {
   "cell_type": "code",
   "execution_count": 19,
   "id": "252cc0d6",
   "metadata": {},
   "outputs": [
    {
     "name": "stdout",
     "output_type": "stream",
     "text": [
      "num is less than 10 or greater then 20\n"
     ]
    }
   ],
   "source": [
    "num = 7\n",
    "if num <= 10 or num >= 20:\n",
    "    print('num is less than 10 or greater then 20')\n",
    "else:\n",
    "    print('num is between 10 and 20')"
   ]
  },
  {
   "cell_type": "markdown",
   "id": "3d068708",
   "metadata": {},
   "source": [
    "### not\n",
    "it reverses the one input value"
   ]
  },
  {
   "cell_type": "code",
   "execution_count": 20,
   "id": "5996ed7d",
   "metadata": {},
   "outputs": [
    {
     "name": "stdout",
     "output_type": "stream",
     "text": [
      "False\n"
     ]
    }
   ],
   "source": [
    "print(not True)"
   ]
  },
  {
   "cell_type": "markdown",
   "id": "52b23977",
   "metadata": {},
   "source": [
    "# while loop"
   ]
  },
  {
   "cell_type": "code",
   "execution_count": 21,
   "id": "26f7e6a8",
   "metadata": {},
   "outputs": [
    {
     "name": "stdout",
     "output_type": "stream",
     "text": [
      "1\n",
      "2\n",
      "3\n",
      "4\n",
      "5\n",
      "6\n",
      "7\n",
      "8\n",
      "9\n",
      "10\n"
     ]
    }
   ],
   "source": [
    "#  syntax\n",
    "#  while <condition>:\n",
    "#      <statements>\n",
    "\n",
    "# counter from 1 to 10\n",
    "\n",
    "x = 1\n",
    "while x <= 10:\n",
    "    print(x)\n",
    "    x += 1"
   ]
  },
  {
   "cell_type": "code",
   "execution_count": 23,
   "id": "43c1fcc3",
   "metadata": {},
   "outputs": [
    {
     "name": "stdout",
     "output_type": "stream",
     "text": [
      "100  = even\n",
      "99  = odd\n",
      "98  = even\n",
      "97  = odd\n",
      "96  = even\n",
      "95  = odd\n",
      "94  = even\n",
      "93  = odd\n",
      "92  = even\n",
      "91  = odd\n",
      "90  = even\n"
     ]
    }
   ],
   "source": [
    "# odd even \n",
    "\n",
    "x = 100\n",
    "while x >= 90:\n",
    "    if x % 2 == 0:\n",
    "        print(x, \" = even\")\n",
    "    else:\n",
    "        print(x, ' = odd')\n",
    "    x -= 1"
   ]
  },
  {
   "cell_type": "markdown",
   "id": "72743b25",
   "metadata": {},
   "source": [
    "# break and continue\n",
    "break is use to break a loop if certain condition is true"
   ]
  },
  {
   "cell_type": "code",
   "execution_count": 25,
   "id": "778116ad",
   "metadata": {},
   "outputs": [
    {
     "name": "stdout",
     "output_type": "stream",
     "text": [
      "5\n",
      "4\n",
      "3\n"
     ]
    }
   ],
   "source": [
    "i = 5\n",
    "while True:\n",
    "  print(i)\n",
    "  i = i - 1\n",
    "  if i <= 2:\n",
    "    break"
   ]
  },
  {
   "cell_type": "markdown",
   "id": "ab39e413",
   "metadata": {},
   "source": [
    "Another statement that can be used within loops is **continue**.  \n",
    "Unlike break, continue jumps back to the top of the loop, rather than stopping it.  \n",
    "Basically, the continue statement stops the current iteration and continues with the next one."
   ]
  },
  {
   "cell_type": "code",
   "execution_count": 4,
   "id": "a6273c07",
   "metadata": {},
   "outputs": [
    {
     "name": "stdout",
     "output_type": "stream",
     "text": [
      "1\n",
      "2\n",
      "3 is skipped\n",
      "4\n",
      "5\n",
      "6\n"
     ]
    }
   ],
   "source": [
    "x = 0\n",
    "while x <= 5:\n",
    "    x += 1\n",
    "    if x == 3:\n",
    "        print('3 is skipped')\n",
    "        continue\n",
    "    print(x)\n",
    "   "
   ]
  },
  {
   "cell_type": "code",
   "execution_count": 5,
   "id": "9728a45e",
   "metadata": {},
   "outputs": [
    {
     "name": "stdout",
     "output_type": "stream",
     "text": [
      "1\n",
      "3\n",
      "4\n"
     ]
    }
   ],
   "source": [
    "i=0\n",
    "while True:\n",
    "    i+=1\n",
    "    if(i == 2):\n",
    "        continue\n",
    "    if(i == 5):\n",
    "        break\n",
    "    \n",
    "    print(i)"
   ]
  },
  {
   "cell_type": "code",
   "execution_count": 6,
   "id": "b3fefeaa",
   "metadata": {},
   "outputs": [
    {
     "name": "stdout",
     "output_type": "stream",
     "text": [
      "6\n"
     ]
    }
   ],
   "source": [
    "i = 0\n",
    "x = 0\n",
    "while i < 4:\n",
    "    x+=i\n",
    "    i+=1\n",
    "\n",
    "print(x)"
   ]
  },
  {
   "cell_type": "markdown",
   "id": "f2a3da97",
   "metadata": {},
   "source": [
    "# Problem"
   ]
  },
  {
   "cell_type": "markdown",
   "id": "db7fef91",
   "metadata": {},
   "source": [
    "#### BMI Calculator\n",
    "\n",
    "\n",
    "Tracking your BMI is a useful way of checking if you’re maintaining a healthy weight. It’s calculated using a person's weight and height, using this formula: **weight / height²**\n",
    "\n",
    "The resulting number indicates one of the following categories:  \n",
    "**Underweight** = less than 18.5  \n",
    "**Normal** = more or equal to 18.5 and less than 25  \n",
    "**Overweight** = more or equal to 25 and less than 30  \n",
    "**Obesity** = 30 or more\n",
    "\n",
    "Let’s make finding out your BMI quicker and easier, by creating a program that takes a person's weight and height as input and outputs the corresponding BMI category.\n",
    "\n",
    "**Sample Input**  \n",
    "85  \n",
    "1.9\n",
    "\n",
    "**Sample Output**  \n",
    "Normal"
   ]
  },
  {
   "cell_type": "markdown",
   "id": "6dc0221a",
   "metadata": {},
   "source": [
    "# Solution"
   ]
  },
  {
   "cell_type": "code",
   "execution_count": 7,
   "id": "95d228e4",
   "metadata": {},
   "outputs": [
    {
     "name": "stdout",
     "output_type": "stream",
     "text": [
      "85\n",
      "1.9\n",
      "Normal\n"
     ]
    }
   ],
   "source": [
    "weight = int(input())\n",
    "height = float(input())\n",
    "\n",
    "BMI = weight / (height ** 2)\n",
    "\n",
    "if BMI < 18.5:\n",
    "    print('Underweight')\n",
    "elif BMI >= 18.5 and BMI < 25:\n",
    "    print('Normal')\n",
    "elif BMI >= 25 and BMI < 30:\n",
    "    print('Overweight')\n",
    "elif BMI >= 30:\n",
    "    print('Obesity')"
   ]
  }
 ],
 "metadata": {
  "kernelspec": {
   "display_name": "Python 3 (ipykernel)",
   "language": "python",
   "name": "python3"
  },
  "language_info": {
   "codemirror_mode": {
    "name": "ipython",
    "version": 3
   },
   "file_extension": ".py",
   "mimetype": "text/x-python",
   "name": "python",
   "nbconvert_exporter": "python",
   "pygments_lexer": "ipython3",
   "version": "3.10.7"
  }
 },
 "nbformat": 4,
 "nbformat_minor": 5
}
