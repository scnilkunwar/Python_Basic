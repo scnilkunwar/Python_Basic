{
 "cells": [
  {
   "cell_type": "markdown",
   "id": "779b06d6",
   "metadata": {},
   "source": [
    "# Back slash"
   ]
  },
  {
   "cell_type": "code",
   "execution_count": 1,
   "id": "bfd39d9b",
   "metadata": {},
   "outputs": [
    {
     "name": "stdout",
     "output_type": "stream",
     "text": [
      "hello I'm sunil\n"
     ]
    }
   ],
   "source": [
    "print('hello I\\'m sunil')"
   ]
  },
  {
   "cell_type": "markdown",
   "id": "52eb22ce",
   "metadata": {},
   "source": [
    "Backslash is use as escape sequence"
   ]
  },
  {
   "cell_type": "code",
   "execution_count": 2,
   "id": "2440990f",
   "metadata": {},
   "outputs": [
    {
     "name": "stdout",
     "output_type": "stream",
     "text": [
      "hello \n",
      " world\n"
     ]
    }
   ],
   "source": [
    "print('hello \\n world')"
   ]
  },
  {
   "cell_type": "code",
   "execution_count": 4,
   "id": "7a450df8",
   "metadata": {},
   "outputs": [
    {
     "name": "stdout",
     "output_type": "stream",
     "text": [
      "this is\ttab\n"
     ]
    }
   ],
   "source": [
    "print('this is\\ttab')"
   ]
  },
  {
   "cell_type": "code",
   "execution_count": 7,
   "id": "343a6e24",
   "metadata": {},
   "outputs": [
    {
     "name": "stdout",
     "output_type": "stream",
     "text": [
      "if we use 3 quote\n",
      "then we don't need escape char\n"
     ]
    }
   ],
   "source": [
    "print(\"\"\"if we use 3 quote\n",
    "then we don't need escape char\"\"\")"
   ]
  },
  {
   "cell_type": "markdown",
   "id": "76a8a453",
   "metadata": {},
   "source": [
    "# Concatenation"
   ]
  },
  {
   "cell_type": "code",
   "execution_count": 8,
   "id": "cbc84117",
   "metadata": {},
   "outputs": [
    {
     "name": "stdout",
     "output_type": "stream",
     "text": [
      "Hi there\n"
     ]
    }
   ],
   "source": [
    "str1 = \"Hi\"\n",
    "str2 = \" there\"\n",
    "print(str1 + str2)"
   ]
  },
  {
   "cell_type": "code",
   "execution_count": 10,
   "id": "de1cccc3",
   "metadata": {},
   "outputs": [
    {
     "name": "stdout",
     "output_type": "stream",
     "text": [
      "452\n"
     ]
    }
   ],
   "source": [
    "print('45' + '2')"
   ]
  },
  {
   "cell_type": "code",
   "execution_count": 9,
   "id": "c1075d65",
   "metadata": {},
   "outputs": [
    {
     "name": "stdout",
     "output_type": "stream",
     "text": [
      "HiHiHi\n"
     ]
    }
   ],
   "source": [
    "print(str1 * 3)"
   ]
  },
  {
   "cell_type": "markdown",
   "id": "e9f4cfca",
   "metadata": {},
   "source": [
    "# Problem"
   ]
  },
  {
   "cell_type": "markdown",
   "id": "3743d525",
   "metadata": {},
   "source": [
    "String\n",
    "\n",
    "You need to make a program for a leaderboard.\n",
    "The program needs to output the numbers 1 to 9, each on a separate line, followed by a dot:\n",
    "\n",
    "1. \n",
    "2. \n",
    "3. \n",
    "\n",
    "..."
   ]
  },
  {
   "cell_type": "markdown",
   "id": "67da720c",
   "metadata": {},
   "source": [
    "# Solution"
   ]
  },
  {
   "cell_type": "code",
   "execution_count": 12,
   "id": "5ee02de5",
   "metadata": {},
   "outputs": [
    {
     "name": "stdout",
     "output_type": "stream",
     "text": [
      "1.\n",
      "2.\n",
      "3.\n",
      "4.\n",
      "5.\n",
      "6.\n",
      "7.\n",
      "8.\n",
      "9.\n"
     ]
    }
   ],
   "source": [
    "print(\"\"\"1.\n",
    "2.\n",
    "3.\n",
    "4.\n",
    "5.\n",
    "6.\n",
    "7.\n",
    "8.\n",
    "9.\"\"\")"
   ]
  },
  {
   "cell_type": "code",
   "execution_count": null,
   "id": "3d68e84a",
   "metadata": {},
   "outputs": [],
   "source": []
  }
 ],
 "metadata": {
  "kernelspec": {
   "display_name": "Python 3 (ipykernel)",
   "language": "python",
   "name": "python3"
  },
  "language_info": {
   "codemirror_mode": {
    "name": "ipython",
    "version": 3
   },
   "file_extension": ".py",
   "mimetype": "text/x-python",
   "name": "python",
   "nbconvert_exporter": "python",
   "pygments_lexer": "ipython3",
   "version": "3.10.7"
  }
 },
 "nbformat": 4,
 "nbformat_minor": 5
}
