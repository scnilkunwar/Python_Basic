{
 "cells": [
  {
   "cell_type": "markdown",
   "id": "13099ae3",
   "metadata": {},
   "source": [
    "# Function\n",
    "A function has a **name** and can have **arguments**.\n",
    "\n",
    "Functions can have multiple arguments.  \n",
    "For example, ```range(2, 20)``` has two arguments, 2 and 20.  \n",
    "Function arguments need to be separated by **commas**.\n",
    "\n",
    "You **call** the function by using its name, followed by **parentheses**, which **enclose** the arguments.  \n",
    "For example, we call the print function with a string argument to generate output:"
   ]
  },
  {
   "cell_type": "code",
   "execution_count": 1,
   "id": "d8d0158a",
   "metadata": {},
   "outputs": [
    {
     "name": "stdout",
     "output_type": "stream",
     "text": [
      "hello\n"
     ]
    }
   ],
   "source": [
    "print('hello')"
   ]
  },
  {
   "cell_type": "markdown",
   "id": "54941af3",
   "metadata": {},
   "source": [
    "# List funtcions\n",
    "\n",
    "## len()\n",
    "```len()``` lets you get the number of items in a list like objects"
   ]
  },
  {
   "cell_type": "code",
   "execution_count": 2,
   "id": "97819554",
   "metadata": {},
   "outputs": [
    {
     "name": "stdout",
     "output_type": "stream",
     "text": [
      "4\n",
      "5\n"
     ]
    }
   ],
   "source": [
    "lst = [1, 4, 9, 16]\n",
    "st = 'sunil'\n",
    "print(len(lst))\n",
    "print(len(st))"
   ]
  },
  {
   "cell_type": "code",
   "execution_count": 3,
   "id": "53cca2fb",
   "metadata": {},
   "outputs": [
    {
     "data": {
      "text/plain": [
       "19"
      ]
     },
     "execution_count": 3,
     "metadata": {},
     "output_type": "execute_result"
    }
   ],
   "source": [
    "len(range(5, 100, 5))"
   ]
  },
  {
   "cell_type": "code",
   "execution_count": 4,
   "id": "2848f37b",
   "metadata": {},
   "outputs": [
    {
     "name": "stdout",
     "output_type": "stream",
     "text": [
      "4\n"
     ]
    }
   ],
   "source": [
    "letters = [\"a\", \"b\", \"c\"]\n",
    "letters += [\"d\"]\n",
    "print(len(letters))"
   ]
  },
  {
   "cell_type": "code",
   "execution_count": 5,
   "id": "fd67e976",
   "metadata": {},
   "outputs": [
    {
     "name": "stdout",
     "output_type": "stream",
     "text": [
      "6\n"
     ]
    }
   ],
   "source": [
    "x = \"abc\"\n",
    "x *= 2\n",
    "print(len(x))"
   ]
  },
  {
   "cell_type": "markdown",
   "id": "d2bc2580",
   "metadata": {},
   "source": [
    "## append()\n",
    "The ```append()``` function is used to add an item to the end of the list.  \n",
    "Te function is called using the list name, followed by a dot."
   ]
  },
  {
   "cell_type": "code",
   "execution_count": 6,
   "id": "c962c3f9",
   "metadata": {},
   "outputs": [
    {
     "name": "stdout",
     "output_type": "stream",
     "text": [
      "[1, 2, 3, 4, 5]\n"
     ]
    }
   ],
   "source": [
    "lst = [1, 2, 3, 4]\n",
    "lst.append(5)\n",
    "print(lst)"
   ]
  },
  {
   "cell_type": "markdown",
   "id": "acaa596f",
   "metadata": {},
   "source": [
    "## insert()\n",
    "```insert()``` inserts a new item at the given position in the list.\n",
    "\n",
    "The first argument is the position index, while the second parameter is the item to insert at that position."
   ]
  },
  {
   "cell_type": "code",
   "execution_count": 7,
   "id": "14bbfe3f",
   "metadata": {},
   "outputs": [
    {
     "data": {
      "text/plain": [
       "[10, 6, 9, 8, 7]"
      ]
     },
     "execution_count": 7,
     "metadata": {},
     "output_type": "execute_result"
    }
   ],
   "source": [
    "lst = [10, 9, 8, 7]\n",
    "lst.insert(1, 6)\n",
    "lst"
   ]
  },
  {
   "cell_type": "code",
   "execution_count": 8,
   "id": "75e0abdf",
   "metadata": {},
   "outputs": [
    {
     "name": "stdout",
     "output_type": "stream",
     "text": [
      "7\n"
     ]
    }
   ],
   "source": [
    "nums = [9, 8, 7, 6, 5]\n",
    "nums.append(4)\n",
    "nums.insert(2, 11)\n",
    "print(len(nums))"
   ]
  },
  {
   "cell_type": "markdown",
   "id": "c40a7973",
   "metadata": {},
   "source": [
    "## index() \n",
    "```index()``` finds the first occurrence of a list item and returns its index."
   ]
  },
  {
   "cell_type": "code",
   "execution_count": 9,
   "id": "16a6a752",
   "metadata": {},
   "outputs": [
    {
     "name": "stdout",
     "output_type": "stream",
     "text": [
      "1\n"
     ]
    }
   ],
   "source": [
    "x = [2, 4, 5, 7, 4]\n",
    "y = x.index(4)\n",
    "print(y)"
   ]
  },
  {
   "cell_type": "code",
   "execution_count": 10,
   "id": "253bfd54",
   "metadata": {},
   "outputs": [
    {
     "ename": "ValueError",
     "evalue": "3 is not in list",
     "output_type": "error",
     "traceback": [
      "\u001b[1;31m---------------------------------------------------------------------------\u001b[0m",
      "\u001b[1;31mValueError\u001b[0m                                Traceback (most recent call last)",
      "Cell \u001b[1;32mIn [10], line 1\u001b[0m\n\u001b[1;32m----> 1\u001b[0m z \u001b[38;5;241m=\u001b[39m x\u001b[38;5;241m.\u001b[39mindex(\u001b[38;5;241m3\u001b[39m)\n\u001b[0;32m      2\u001b[0m z\n",
      "\u001b[1;31mValueError\u001b[0m: 3 is not in list"
     ]
    }
   ],
   "source": [
    "z = x.index(3)\n",
    "z"
   ]
  },
  {
   "cell_type": "code",
   "execution_count": 11,
   "id": "a2d87cdb",
   "metadata": {},
   "outputs": [
    {
     "name": "stdout",
     "output_type": "stream",
     "text": [
      "2\n"
     ]
    }
   ],
   "source": [
    "#  can be applied to string\n",
    "\n",
    "st = \"python\"\n",
    "print(st.index('t'))"
   ]
  },
  {
   "cell_type": "markdown",
   "id": "368e7d28",
   "metadata": {},
   "source": [
    "## max(list)\n",
    "Returns the maximum value.\n",
    "## min(list)\n",
    "Returns the minimum value."
   ]
  },
  {
   "cell_type": "code",
   "execution_count": 12,
   "id": "b47e9d6f",
   "metadata": {},
   "outputs": [
    {
     "name": "stdout",
     "output_type": "stream",
     "text": [
      "1\n",
      "5\n"
     ]
    }
   ],
   "source": [
    "nums = [1, 3, 5, 2, 4]\n",
    "mn = min(nums)\n",
    "mx = max(nums)\n",
    "print(mn)\n",
    "print(mx)"
   ]
  },
  {
   "cell_type": "code",
   "execution_count": 13,
   "id": "7692e61b",
   "metadata": {},
   "outputs": [
    {
     "name": "stdout",
     "output_type": "stream",
     "text": [
      "h\n",
      "y\n"
     ]
    }
   ],
   "source": [
    "#  can be applied to string\n",
    "\n",
    "print(min(st))\n",
    "print(max(st))"
   ]
  },
  {
   "cell_type": "markdown",
   "id": "9bed8a7b",
   "metadata": {},
   "source": [
    "## Others functions\n",
    "\n",
    "```list.count(item)```: Returns a count of how many times an item occurs in a list.   \n",
    "```list.remove(item)```: Removes an item from a list.  \n",
    "```list.reverse()```: Reverses items in a list."
   ]
  },
  {
   "cell_type": "code",
   "execution_count": 14,
   "id": "5c49c173",
   "metadata": {},
   "outputs": [
    {
     "name": "stdout",
     "output_type": "stream",
     "text": [
      "4\n"
     ]
    }
   ],
   "source": [
    "ls = [2, 4, 6, 4, 2, 5, 6, 7, 8, 2, 2, 5]\n",
    "count = ls.count(2)\n",
    "print(count)"
   ]
  },
  {
   "cell_type": "code",
   "execution_count": 15,
   "id": "ec2b2d15",
   "metadata": {},
   "outputs": [
    {
     "name": "stdout",
     "output_type": "stream",
     "text": [
      "Before removing 4:  [2, 4, 6, 4, 2, 5, 6, 7, 8, 2, 2, 5]\n",
      "After removing 4:  [2, 6, 4, 2, 5, 6, 7, 8, 2, 2, 5]\n"
     ]
    }
   ],
   "source": [
    "print('Before removing 4: ', ls)\n",
    "ls.remove(4)\n",
    "print('After removing 4: ', ls) # it only removes the first occurance of the items"
   ]
  },
  {
   "cell_type": "code",
   "execution_count": 16,
   "id": "b6c904c2",
   "metadata": {},
   "outputs": [
    {
     "name": "stdout",
     "output_type": "stream",
     "text": [
      "[2, 6, 4, 2, 5, 6, 7, 8, 2, 2, 5]\n",
      "Reversed:  [5, 2, 2, 8, 7, 6, 5, 2, 4, 6, 2]\n"
     ]
    }
   ],
   "source": [
    "print(ls)\n",
    "ls.reverse()\n",
    "print('Reversed: ', ls)"
   ]
  },
  {
   "cell_type": "code",
   "execution_count": 17,
   "id": "922c8ae4",
   "metadata": {},
   "outputs": [
    {
     "name": "stdout",
     "output_type": "stream",
     "text": [
      "2\n"
     ]
    }
   ],
   "source": [
    "# in string\n",
    "\n",
    "st = 'hello python'\n",
    "print(st.count('h'))"
   ]
  },
  {
   "cell_type": "code",
   "execution_count": 18,
   "id": "773276ec",
   "metadata": {},
   "outputs": [
    {
     "name": "stdout",
     "output_type": "stream",
     "text": [
      "4\n"
     ]
    }
   ],
   "source": [
    "lst = [8, 4, 2, 6]\n",
    "lst.remove(2)\n",
    "print(len(lst) + lst.count(6))"
   ]
  },
  {
   "cell_type": "code",
   "execution_count": 19,
   "id": "d677f1fb",
   "metadata": {},
   "outputs": [
    {
     "name": "stdout",
     "output_type": "stream",
     "text": [
      "4\n"
     ]
    }
   ],
   "source": [
    "nums = [2,4,8,9,5]\n",
    "\n",
    "nums.insert(1, 3)\n",
    "nums.remove(9)\n",
    "nums.insert(0, nums.count(8))\n",
    "print(nums[3])"
   ]
  },
  {
   "cell_type": "markdown",
   "id": "a1f3df65",
   "metadata": {},
   "source": [
    "# String Functions\n",
    "\n",
    "## format()\n",
    "Strings have a ```format()``` function, which enables values to be embedded in it, using placeholders."
   ]
  },
  {
   "cell_type": "code",
   "execution_count": 20,
   "id": "8a34917e",
   "metadata": {},
   "outputs": [
    {
     "name": "stdout",
     "output_type": "stream",
     "text": [
      "The value of a = 1, and b = 2\n"
     ]
    }
   ],
   "source": [
    "a = 1\n",
    "b = 2\n",
    "print(\"The value of a = {}, and b = {}\".format(a, b))"
   ]
  },
  {
   "cell_type": "code",
   "execution_count": 21,
   "id": "f825ee34",
   "metadata": {},
   "outputs": [
    {
     "name": "stdout",
     "output_type": "stream",
     "text": [
      "The value of a = 1, and b = 2\n"
     ]
    }
   ],
   "source": [
    "# this can be written as\n",
    "a = 1\n",
    "b = 2\n",
    "print(\"The value of a = {0}, and b = {1}\".format(a, b))"
   ]
  },
  {
   "cell_type": "code",
   "execution_count": 24,
   "id": "957081c2",
   "metadata": {},
   "outputs": [
    {
     "name": "stdout",
     "output_type": "stream",
     "text": [
      "The values are 2, 1\n"
     ]
    }
   ],
   "source": [
    "#  if place holders are reversed\n",
    "a = 1\n",
    "b = 2\n",
    "print(\"The values are {1}, {0}\".format(a, b))"
   ]
  },
  {
   "cell_type": "code",
   "execution_count": 25,
   "id": "06d57e69",
   "metadata": {},
   "outputs": [
    {
     "name": "stdout",
     "output_type": "stream",
     "text": [
      "abracadabra\n"
     ]
    }
   ],
   "source": [
    "print(\"{0}{1}{0}\".format(\"abra\", \"cad\"))"
   ]
  },
  {
   "cell_type": "code",
   "execution_count": 27,
   "id": "961feef8",
   "metadata": {},
   "outputs": [
    {
     "name": "stdout",
     "output_type": "stream",
     "text": [
      "some values are 5, 6\n"
     ]
    }
   ],
   "source": [
    "#  naming place holders\n",
    "st = 'some values are {x}, {y}'.format(x = 5, y = 6)\n",
    "print(st)"
   ]
  },
  {
   "cell_type": "code",
   "execution_count": 29,
   "id": "4444e4ad",
   "metadata": {},
   "outputs": [
    {
     "name": "stdout",
     "output_type": "stream",
     "text": [
      "7, 9, 5\n"
     ]
    }
   ],
   "source": [
    "st = \"{c}, {b}, {a}\".format(a = 5, b = 9, c = 7)\n",
    "print(st)"
   ]
  },
  {
   "cell_type": "markdown",
   "id": "72c23e54",
   "metadata": {},
   "source": [
    "## join()\n",
    "```join()``` joins a list of strings with another string as a separator."
   ]
  },
  {
   "cell_type": "code",
   "execution_count": 32,
   "id": "522df6d5",
   "metadata": {},
   "outputs": [
    {
     "name": "stdout",
     "output_type": "stream",
     "text": [
      "hello python lover !\n"
     ]
    }
   ],
   "source": [
    "str_lst = ['hello', 'python', 'lover', '!']\n",
    "joined_str = ' '.join(str_lst)\n",
    "print(joined_str)"
   ]
  },
  {
   "cell_type": "code",
   "execution_count": 33,
   "id": "7629f6de",
   "metadata": {},
   "outputs": [
    {
     "name": "stdout",
     "output_type": "stream",
     "text": [
      "hello, python, lover, !\n"
     ]
    }
   ],
   "source": [
    "str_lst = ['hello', 'python', 'lover', '!']\n",
    "joined_str = ', '.join(str_lst)\n",
    "print(joined_str)"
   ]
  },
  {
   "cell_type": "markdown",
   "id": "e7a5a2c5",
   "metadata": {},
   "source": [
    "## split()\n",
    "\n",
    "```split()``` is the opposite of ```join()```.  \n",
    "It turns a string with a certain separator into a list."
   ]
  },
  {
   "cell_type": "code",
   "execution_count": 35,
   "id": "f4d3beda",
   "metadata": {},
   "outputs": [
    {
     "name": "stdout",
     "output_type": "stream",
     "text": [
      "['hello', ' python', ' lover', ' !']\n"
     ]
    }
   ],
   "source": [
    "st = 'hello, python, lover, !'\n",
    "split_str = st.split(',')\n",
    "print(split_str)"
   ]
  },
  {
   "cell_type": "code",
   "execution_count": 37,
   "id": "ab43915c",
   "metadata": {},
   "outputs": [
    {
     "name": "stdout",
     "output_type": "stream",
     "text": [
      "['hello', 'python', 'lover', '!']\n",
      "python\n"
     ]
    }
   ],
   "source": [
    "st = 'hello python lover !'\n",
    "split_str = st.split(' ')\n",
    "print(split_str)\n",
    "print(split_str[1])"
   ]
  },
  {
   "cell_type": "markdown",
   "id": "c84ac46a",
   "metadata": {},
   "source": [
    "## replace()\n",
    "```replace()``` replaces one substring in a string with another."
   ]
  },
  {
   "cell_type": "code",
   "execution_count": 39,
   "id": "148035d6",
   "metadata": {},
   "outputs": [
    {
     "name": "stdout",
     "output_type": "stream",
     "text": [
      "Pepal\n"
     ]
    }
   ],
   "source": [
    "st = 'Nepal'\n",
    "st1 = st.replace('N', 'P')\n",
    "print(st1)"
   ]
  },
  {
   "cell_type": "code",
   "execution_count": 47,
   "id": "3b5ee702",
   "metadata": {},
   "outputs": [
    {
     "name": "stdout",
     "output_type": "stream",
     "text": [
      "C++ is hard.\n"
     ]
    }
   ],
   "source": [
    "txt = 'Python is easy.'\n",
    "print(txt.replace('Python', 'C++').replace('easy', 'hard'))"
   ]
  },
  {
   "cell_type": "code",
   "execution_count": 40,
   "id": "3ae93abe",
   "metadata": {},
   "outputs": [
    {
     "name": "stdout",
     "output_type": "stream",
     "text": [
      "three three was a race horse, two two was one too.\n"
     ]
    }
   ],
   "source": [
    "txt = \"one one was a race horse, two two was one too.\"\n",
    "\n",
    "x = txt.replace(\"one\", \"three\", 2)\n",
    "\n",
    "print(x)"
   ]
  },
  {
   "cell_type": "markdown",
   "id": "4b4df592",
   "metadata": {},
   "source": [
    "```lower()``` and ```upper()``` change the case of a string to lowercase and uppercase."
   ]
  },
  {
   "cell_type": "code",
   "execution_count": 48,
   "id": "ff86ce37",
   "metadata": {},
   "outputs": [
    {
     "name": "stdout",
     "output_type": "stream",
     "text": [
      "HELLO\n"
     ]
    }
   ],
   "source": [
    "l_st = 'Hello'\n",
    "print(l_st.upper())"
   ]
  },
  {
   "cell_type": "code",
   "execution_count": 49,
   "id": "f7febdd8",
   "metadata": {},
   "outputs": [
    {
     "name": "stdout",
     "output_type": "stream",
     "text": [
      "python\n"
     ]
    }
   ],
   "source": [
    "u_st = 'PYTHON'\n",
    "print(u_st.lower())"
   ]
  },
  {
   "cell_type": "code",
   "execution_count": null,
   "id": "7b912fc9",
   "metadata": {},
   "outputs": [],
   "source": []
  }
 ],
 "metadata": {
  "kernelspec": {
   "display_name": "Python 3 (ipykernel)",
   "language": "python",
   "name": "python3"
  },
  "language_info": {
   "codemirror_mode": {
    "name": "ipython",
    "version": 3
   },
   "file_extension": ".py",
   "mimetype": "text/x-python",
   "name": "python",
   "nbconvert_exporter": "python",
   "pygments_lexer": "ipython3",
   "version": "3.10.7"
  }
 },
 "nbformat": 4,
 "nbformat_minor": 5
}
