{
 "cells": [
  {
   "cell_type": "markdown",
   "id": "46fac516",
   "metadata": {},
   "source": [
    "# List\n",
    "**Lists** are used to store items.\n",
    "We can create a list by using **square brackets** with **commas** separating items.\n",
    "\n",
    "like:  \n",
    "[1, 2, 3, \"hi\", 8.9]"
   ]
  },
  {
   "cell_type": "code",
   "execution_count": 2,
   "id": "b2f3e676",
   "metadata": {},
   "outputs": [
    {
     "name": "stdout",
     "output_type": "stream",
     "text": [
      "[1, 3, 5, 7]\n"
     ]
    }
   ],
   "source": [
    "lst = [1, 3, 5, 7]\n",
    "print(lst)"
   ]
  },
  {
   "cell_type": "markdown",
   "id": "faf0495e",
   "metadata": {},
   "source": [
    "List items are accessed by indexing\n",
    "\n",
    "index starts from **0**"
   ]
  },
  {
   "cell_type": "code",
   "execution_count": 3,
   "id": "47e35857",
   "metadata": {},
   "outputs": [
    {
     "name": "stdout",
     "output_type": "stream",
     "text": [
      "1\n",
      "3\n"
     ]
    }
   ],
   "source": [
    "print(lst[0])\n",
    "print(lst[1])"
   ]
  },
  {
   "cell_type": "markdown",
   "id": "db4578dc",
   "metadata": {},
   "source": [
    "Nested list\n",
    "**2D, 3D** list "
   ]
  },
  {
   "cell_type": "code",
   "execution_count": 4,
   "id": "3b7d7e32",
   "metadata": {},
   "outputs": [
    {
     "data": {
      "text/plain": [
       "[[1, 2, 5], [5, 8, 9], [3, 5, 0]]"
      ]
     },
     "execution_count": 4,
     "metadata": {},
     "output_type": "execute_result"
    }
   ],
   "source": [
    "lst = [[1, 2, 5],\n",
    "       [5, 8, 9],\n",
    "       [3, 5, 0]]\n",
    "lst"
   ]
  },
  {
   "cell_type": "code",
   "execution_count": 6,
   "id": "27b4f020",
   "metadata": {},
   "outputs": [
    {
     "name": "stdout",
     "output_type": "stream",
     "text": [
      "5\n"
     ]
    }
   ],
   "source": [
    "print(lst[0][2]) # first row 3rd column"
   ]
  },
  {
   "cell_type": "code",
   "execution_count": 11,
   "id": "b7464b5c",
   "metadata": {},
   "outputs": [
    {
     "name": "stdout",
     "output_type": "stream",
     "text": [
      "e\n"
     ]
    }
   ],
   "source": [
    "st = 'hello' #  string can be treated as list\n",
    "print(st[1])"
   ]
  },
  {
   "cell_type": "code",
   "execution_count": null,
   "id": "b0fdc1fa",
   "metadata": {},
   "outputs": [],
   "source": []
  }
 ],
 "metadata": {
  "kernelspec": {
   "display_name": "Python 3 (ipykernel)",
   "language": "python",
   "name": "python3"
  },
  "language_info": {
   "codemirror_mode": {
    "name": "ipython",
    "version": 3
   },
   "file_extension": ".py",
   "mimetype": "text/x-python",
   "name": "python",
   "nbconvert_exporter": "python",
   "pygments_lexer": "ipython3",
   "version": "3.10.7"
  }
 },
 "nbformat": 4,
 "nbformat_minor": 5
}
