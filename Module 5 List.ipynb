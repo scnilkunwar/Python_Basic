{
 "cells": [
  {
   "cell_type": "markdown",
   "id": "d598fbb3",
   "metadata": {},
   "source": [
    "# List\n",
    "**Lists** are used to store items.\n",
    "We can create a list by using **square brackets** with **commas** separating items.\n",
    "\n",
    "like:  \n",
    "[1, 2, 3, \"hi\", 8.9]"
   ]
  },
  {
   "cell_type": "code",
   "execution_count": 2,
   "id": "579a91bd",
   "metadata": {},
   "outputs": [
    {
     "name": "stdout",
     "output_type": "stream",
     "text": [
      "[1, 3, 5, 7]\n"
     ]
    }
   ],
   "source": [
    "lst = [1, 3, 5, 7]\n",
    "print(lst)"
   ]
  },
  {
   "cell_type": "markdown",
   "id": "f8fa8910",
   "metadata": {},
   "source": [
    "List items are accessed by indexing\n",
    "\n",
    "index starts from **0**"
   ]
  },
  {
   "cell_type": "code",
   "execution_count": 3,
   "id": "0509aefb",
   "metadata": {},
   "outputs": [
    {
     "name": "stdout",
     "output_type": "stream",
     "text": [
      "1\n",
      "3\n"
     ]
    }
   ],
   "source": [
    "print(lst[0])\n",
    "print(lst[1])"
   ]
  },
  {
   "cell_type": "markdown",
   "id": "28160004",
   "metadata": {},
   "source": [
    "### Negative indexing\n",
    "\n",
    "when we use negative numbers as index it will start from last"
   ]
  },
  {
   "cell_type": "code",
   "execution_count": 42,
   "id": "cf8aa2cc",
   "metadata": {},
   "outputs": [
    {
     "name": "stdout",
     "output_type": "stream",
     "text": [
      "16\n",
      "4\n"
     ]
    }
   ],
   "source": [
    "lst = [0, 1, 4, 9, 16]\n",
    "print(lst[-1])\n",
    "print(lst[-3])"
   ]
  },
  {
   "cell_type": "markdown",
   "id": "71205883",
   "metadata": {},
   "source": [
    "Nested list\n",
    "**2D, 3D** list "
   ]
  },
  {
   "cell_type": "code",
   "execution_count": 4,
   "id": "99946dd8",
   "metadata": {},
   "outputs": [
    {
     "data": {
      "text/plain": [
       "[[1, 2, 5], [5, 8, 9], [3, 5, 0]]"
      ]
     },
     "execution_count": 4,
     "metadata": {},
     "output_type": "execute_result"
    }
   ],
   "source": [
    "lst = [[1, 2, 5],\n",
    "       [5, 8, 9],\n",
    "       [3, 5, 0]]\n",
    "lst"
   ]
  },
  {
   "cell_type": "code",
   "execution_count": 5,
   "id": "25e5964a",
   "metadata": {},
   "outputs": [
    {
     "name": "stdout",
     "output_type": "stream",
     "text": [
      "5\n"
     ]
    }
   ],
   "source": [
    "print(lst[0][2]) # first row 3rd column"
   ]
  },
  {
   "cell_type": "code",
   "execution_count": 6,
   "id": "88c469a2",
   "metadata": {},
   "outputs": [
    {
     "name": "stdout",
     "output_type": "stream",
     "text": [
      "e\n"
     ]
    }
   ],
   "source": [
    "st = 'hello' #  string can be treated as list\n",
    "print(st[1])"
   ]
  },
  {
   "cell_type": "markdown",
   "id": "8c738950",
   "metadata": {},
   "source": [
    "# List operation"
   ]
  },
  {
   "cell_type": "markdown",
   "id": "5bfbab58",
   "metadata": {},
   "source": [
    "Reassigned of a member of list"
   ]
  },
  {
   "cell_type": "code",
   "execution_count": 7,
   "id": "179c4815",
   "metadata": {},
   "outputs": [
    {
     "data": {
      "text/plain": [
       "[1, 2, 5, 6]"
      ]
     },
     "execution_count": 7,
     "metadata": {},
     "output_type": "execute_result"
    }
   ],
   "source": [
    "lst = [1, 2, 5, 6]\n",
    "lst"
   ]
  },
  {
   "cell_type": "code",
   "execution_count": 8,
   "id": "9667098e",
   "metadata": {},
   "outputs": [
    {
     "data": {
      "text/plain": [
       "[1, 2, 4, 6]"
      ]
     },
     "execution_count": 8,
     "metadata": {},
     "output_type": "execute_result"
    }
   ],
   "source": [
    "lst[2] = 4\n",
    "lst"
   ]
  },
  {
   "cell_type": "markdown",
   "id": "5917073f",
   "metadata": {},
   "source": [
    "list can be added"
   ]
  },
  {
   "cell_type": "code",
   "execution_count": 9,
   "id": "f1cd925b",
   "metadata": {
    "scrolled": true
   },
   "outputs": [
    {
     "name": "stdout",
     "output_type": "stream",
     "text": [
      "3\n"
     ]
    }
   ],
   "source": [
    "x = [2, 4]\n",
    "x += [6, 8]\n",
    "print(x[2]//x[0])"
   ]
  },
  {
   "cell_type": "markdown",
   "id": "26cb7b85",
   "metadata": {},
   "source": [
    "To check if an item is in a particular list, we can use the **in** operator.\n",
    "\n",
    "It returns **True** if the item occurs one or more times in the list, and **False** if it doesn't."
   ]
  },
  {
   "cell_type": "code",
   "execution_count": 10,
   "id": "e89ac43d",
   "metadata": {},
   "outputs": [
    {
     "name": "stdout",
     "output_type": "stream",
     "text": [
      "True\n",
      "False\n"
     ]
    }
   ],
   "source": [
    "x = [2, 3, 5, 7, 11]\n",
    "print(5 in x)\n",
    "print(13 in x)"
   ]
  },
  {
   "cell_type": "code",
   "execution_count": 11,
   "id": "1c534e07",
   "metadata": {},
   "outputs": [
    {
     "name": "stdout",
     "output_type": "stream",
     "text": [
      "7\n"
     ]
    }
   ],
   "source": [
    "nums = [10, 9, 8, 7, 6, 5]\n",
    "nums[0] = nums[1] - 5\n",
    "if 4 in nums:\n",
    "  print(nums[3])\n",
    "else:\n",
    "  print(nums[4])"
   ]
  },
  {
   "cell_type": "markdown",
   "id": "1ddc0624",
   "metadata": {},
   "source": [
    "# foor loop"
   ]
  },
  {
   "cell_type": "markdown",
   "id": "a5153105",
   "metadata": {},
   "source": [
    "The **for** loop is used to iterate over a given sequence, such as lists or strings."
   ]
  },
  {
   "cell_type": "code",
   "execution_count": 12,
   "id": "563c6902",
   "metadata": {},
   "outputs": [
    {
     "name": "stdout",
     "output_type": "stream",
     "text": [
      "2\n",
      "3\n",
      "5\n",
      "7\n",
      "11\n",
      "13\n"
     ]
    }
   ],
   "source": [
    "#  syntax\n",
    "#  for in <sequence, range or list>:\n",
    "#      <code block>\n",
    "\n",
    "primes = [2, 3, 5, 7, 11, 13]\n",
    "for prime in primes:\n",
    "    print(prime)"
   ]
  },
  {
   "cell_type": "code",
   "execution_count": 13,
   "id": "454e8de7",
   "metadata": {},
   "outputs": [
    {
     "name": "stdout",
     "output_type": "stream",
     "text": [
      "8\n",
      "14\n",
      "6\n",
      "2\n"
     ]
    }
   ],
   "source": [
    "nums = [4, 7, 3, 1]\n",
    "for x in nums:\n",
    "    print(x*2)"
   ]
  },
  {
   "cell_type": "markdown",
   "id": "87af842a",
   "metadata": {},
   "source": [
    "A **for** loop can be used to iterate over strings."
   ]
  },
  {
   "cell_type": "code",
   "execution_count": 14,
   "id": "d42b2bac",
   "metadata": {},
   "outputs": [
    {
     "name": "stdout",
     "output_type": "stream",
     "text": [
      "h\n",
      "e\n",
      "l\n",
      "l\n",
      "o\n",
      "!\n"
     ]
    }
   ],
   "source": [
    "str = 'hello!'\n",
    "for letter in str:\n",
    "    print(letter)"
   ]
  },
  {
   "cell_type": "code",
   "execution_count": 15,
   "id": "10fbd6a3",
   "metadata": {},
   "outputs": [
    {
     "name": "stdout",
     "output_type": "stream",
     "text": [
      "5\n"
     ]
    }
   ],
   "source": [
    "lst = [2, 3, 4, 5, 6, 7]\n",
    "\n",
    "for x in lst:\n",
    "   if(x%2==1 and x>4):\n",
    "      print(x)\n",
    "      break"
   ]
  },
  {
   "cell_type": "code",
   "execution_count": 16,
   "id": "f884f0ed",
   "metadata": {},
   "outputs": [
    {
     "name": "stdout",
     "output_type": "stream",
     "text": [
      "4\n"
     ]
    }
   ],
   "source": [
    "nums = [1, 2, 3, 4]\n",
    "res = 0\n",
    "\n",
    "for x in nums:\n",
    "    if(x%2==0):\n",
    "        continue\n",
    "    else:\n",
    "        res += x\n",
    "        \n",
    "print(res)"
   ]
  },
  {
   "cell_type": "markdown",
   "id": "b29e7639",
   "metadata": {},
   "source": [
    "# for vs while\n",
    "\n",
    "So we’ve got the **for** and **while** loops, which can be used to execute a block of code multiple times. So which do we use and when?\n",
    "\n",
    "Usually we’d use the **for** loop when the number of iterations is fixed. For example, iterating over a fixed list of items in a shopping list.\n",
    "\n",
    "The **while** loop is useful in cases when the number of iterations isn’t known and depends on some calculations and conditions in the code block of the loop. For example, ending the loop when the user enters a specific input in a calculator program."
   ]
  },
  {
   "cell_type": "code",
   "execution_count": 17,
   "id": "e49aa5b8",
   "metadata": {},
   "outputs": [
    {
     "name": "stdout",
     "output_type": "stream",
     "text": [
      "55\n"
     ]
    }
   ],
   "source": [
    "# sum of elements of list using foor loop\n",
    "\n",
    "num = [1, 2, 3, 4, 5, 6, 7, 8, 9, 10]\n",
    "sum = 0\n",
    "\n",
    "for x in num:\n",
    "    sum += x\n",
    "\n",
    "print(sum)"
   ]
  },
  {
   "cell_type": "code",
   "execution_count": 18,
   "id": "1f49af43",
   "metadata": {},
   "outputs": [
    {
     "name": "stdout",
     "output_type": "stream",
     "text": [
      "55\n"
     ]
    }
   ],
   "source": [
    "# sum of elements of list using foor loop\n",
    "\n",
    "num = [1, 2, 3, 4, 5, 6, 7, 8, 9, 10]\n",
    "sum = 0\n",
    "i = 0\n",
    "\n",
    "while i < len(num):\n",
    "    sum += num[i]\n",
    "    i += 1\n",
    "    \n",
    "print(sum)"
   ]
  },
  {
   "cell_type": "markdown",
   "id": "7b28e157",
   "metadata": {},
   "source": [
    "# Ranges\n",
    "\n",
    " It starts from 0, increments by 1 and stops before the specified number."
   ]
  },
  {
   "cell_type": "code",
   "execution_count": 19,
   "id": "32c6b0fd",
   "metadata": {},
   "outputs": [
    {
     "name": "stdout",
     "output_type": "stream",
     "text": [
      "[0, 1, 2, 3, 4]\n"
     ]
    }
   ],
   "source": [
    "sq = list(range(5))\n",
    "print(sq)"
   ]
  },
  {
   "cell_type": "markdown",
   "id": "4665b87a",
   "metadata": {},
   "source": [
    "If it’s called with two arguments, it’ll produce values from the first to the second."
   ]
  },
  {
   "cell_type": "code",
   "execution_count": 20,
   "id": "704e8d6e",
   "metadata": {
    "scrolled": true
   },
   "outputs": [
    {
     "data": {
      "text/plain": [
       "[5, 6, 7, 8, 9, 10, 11, 12, 13, 14]"
      ]
     },
     "execution_count": 20,
     "metadata": {},
     "output_type": "execute_result"
    }
   ],
   "source": [
    "sq = list(range(5, 15))\n",
    "sq"
   ]
  },
  {
   "cell_type": "markdown",
   "id": "46944931",
   "metadata": {},
   "source": [
    "There’s also a third argument you can use with ```range()```, and it’s really useful.  \n",
    "It’s called **Step** and it determines the interval of the sequence produced."
   ]
  },
  {
   "cell_type": "code",
   "execution_count": 21,
   "id": "36ef20ad",
   "metadata": {},
   "outputs": [
    {
     "data": {
      "text/plain": [
       "[2, 4, 6, 8]"
      ]
     },
     "execution_count": 21,
     "metadata": {},
     "output_type": "execute_result"
    }
   ],
   "source": [
    "sq = list(range(2, 10, 2))\n",
    "sq"
   ]
  },
  {
   "cell_type": "code",
   "execution_count": 23,
   "id": "3563a507",
   "metadata": {},
   "outputs": [
    {
     "name": "stdout",
     "output_type": "stream",
     "text": [
      "[5, 4, 3, 2]\n"
     ]
    }
   ],
   "source": [
    "#  others example\n",
    "\n",
    "print(list(range(5, 1, -1)))"
   ]
  },
  {
   "cell_type": "code",
   "execution_count": 24,
   "id": "218c2824",
   "metadata": {},
   "outputs": [
    {
     "data": {
      "text/plain": [
       "[5, 7, 9]"
      ]
     },
     "execution_count": 24,
     "metadata": {},
     "output_type": "execute_result"
    }
   ],
   "source": [
    "numbers = list(range(5, 10, 2))\n",
    "numbers"
   ]
  },
  {
   "cell_type": "markdown",
   "id": "2feacb73",
   "metadata": {},
   "source": [
    "### Range in for loop"
   ]
  },
  {
   "cell_type": "code",
   "execution_count": 27,
   "id": "05617a9c",
   "metadata": {},
   "outputs": [
    {
     "name": "stdout",
     "output_type": "stream",
     "text": [
      "0\n",
      "5\n",
      "10\n",
      "15\n",
      "20\n",
      "25\n",
      "30\n",
      "35\n",
      "40\n",
      "45\n",
      "50\n",
      "55\n",
      "60\n",
      "65\n",
      "70\n",
      "75\n",
      "80\n",
      "85\n",
      "90\n",
      "95\n"
     ]
    }
   ],
   "source": [
    "for i in range(100):\n",
    "    if i % 5 == 0:\n",
    "        print(i)"
   ]
  },
  {
   "cell_type": "markdown",
   "id": "6d3f6a88",
   "metadata": {},
   "source": [
    "# List slices\n",
    "**List slices** allow you to get a part of the list using two colon-separated indices.  \n",
    "This returns a new list containing all the values between the indices."
   ]
  },
  {
   "cell_type": "code",
   "execution_count": 30,
   "id": "400a4e64",
   "metadata": {},
   "outputs": [
    {
     "name": "stdout",
     "output_type": "stream",
     "text": [
      "[0, 1, 2, 3, 4, 5, 6, 7, 8, 9]\n",
      "[3, 4, 5]\n",
      "[5, 6, 7]\n"
     ]
    }
   ],
   "source": [
    "x = list(range(10))\n",
    "print(x)\n",
    "print(x[3:6])\n",
    "print(x[5:8])"
   ]
  },
  {
   "cell_type": "code",
   "execution_count": 31,
   "id": "c2168902",
   "metadata": {},
   "outputs": [
    {
     "name": "stdout",
     "output_type": "stream",
     "text": [
      "[16, 25, 36]\n"
     ]
    }
   ],
   "source": [
    "sqs = [0, 1, 4, 9, 16, 25, 36, 49, 64]\n",
    "print(sqs[4:7])"
   ]
  },
  {
   "cell_type": "markdown",
   "id": "f0ba43e4",
   "metadata": {},
   "source": [
    "If the first number in a slice is omitted, it’s taken to be the start of the list.  \n",
    "If the second number is omitted, it’s taken to be the end."
   ]
  },
  {
   "cell_type": "code",
   "execution_count": 33,
   "id": "4627be2b",
   "metadata": {},
   "outputs": [
    {
     "name": "stdout",
     "output_type": "stream",
     "text": [
      "[2, 4, 6]\n",
      "[8, 10]\n"
     ]
    }
   ],
   "source": [
    "lst = [2, 4, 6, 8, 10]\n",
    "print(lst[:3])\n",
    "print(lst[3:])"
   ]
  },
  {
   "cell_type": "code",
   "execution_count": 34,
   "id": "17dba67a",
   "metadata": {},
   "outputs": [
    {
     "name": "stdout",
     "output_type": "stream",
     "text": [
      "[16, 25, 36, 49, 64]\n"
     ]
    }
   ],
   "source": [
    "sq = [0, 1, 4, 9, 16, 25, 36, 49, 64]\n",
    "print(sq[4:])"
   ]
  },
  {
   "cell_type": "markdown",
   "id": "b237f18b",
   "metadata": {},
   "source": [
    "Just like with ranges, your list slices can include a third number, representing the step, to include only alternate values in the slice. "
   ]
  },
  {
   "cell_type": "code",
   "execution_count": 36,
   "id": "cc73f9f9",
   "metadata": {},
   "outputs": [
    {
     "name": "stdout",
     "output_type": "stream",
     "text": [
      "numbers =  [0, 1, 2, 3, 4, 5, 6, 7, 8, 9]\n",
      "even numbers =  [0, 2, 4, 6, 8]\n",
      "odd numbers =  [1, 3, 5, 7, 9]\n"
     ]
    }
   ],
   "source": [
    "x = list(range(10))\n",
    "print('numbers = ', x)\n",
    "print('even numbers = ', x[::2])\n",
    "print('odd numbers = ', x[1::2])"
   ]
  },
  {
   "cell_type": "code",
   "execution_count": 37,
   "id": "b60b8ed8",
   "metadata": {},
   "outputs": [
    {
     "name": "stdout",
     "output_type": "stream",
     "text": [
      "[1, 25, 81]\n"
     ]
    }
   ],
   "source": [
    "sqs = [0, 1, 4, 9, 16, 25, 36, 49, 64, 81]\n",
    "print(sqs[1::4])"
   ]
  },
  {
   "cell_type": "markdown",
   "id": "90ee5d39",
   "metadata": {},
   "source": [
    "**Negative values** can also be used in list slicing (as well as normal list indexing).\n",
    "\n",
    "Which means that when negative values are used for the first and second values in a slice (or a normal index), they count from the end of the list"
   ]
  },
  {
   "cell_type": "code",
   "execution_count": 38,
   "id": "18a35780",
   "metadata": {},
   "outputs": [
    {
     "name": "stdout",
     "output_type": "stream",
     "text": [
      "[49, 36]\n"
     ]
    }
   ],
   "source": [
    "sqs = [0, 1, 4, 9, 16, 25, 36, 49, 64, 81]\n",
    "print(sqs[7:5:-1])"
   ]
  },
  {
   "cell_type": "code",
   "execution_count": 39,
   "id": "2267319b",
   "metadata": {},
   "outputs": [
    {
     "data": {
      "text/plain": [
       "'!olleH'"
      ]
     },
     "execution_count": 39,
     "metadata": {},
     "output_type": "execute_result"
    }
   ],
   "source": [
    "#  Reverse a string\n",
    "\n",
    "text = \"Hello!\"\n",
    "rev = text[::-1]\n",
    "rev"
   ]
  },
  {
   "cell_type": "code",
   "execution_count": 40,
   "id": "541e23b1",
   "metadata": {},
   "outputs": [
    {
     "name": "stdout",
     "output_type": "stream",
     "text": [
      "4\n"
     ]
    }
   ],
   "source": [
    "nums = [1, 2, 3, 4, 5, 6]\n",
    "res = nums[::-1]\n",
    "print(res[2])"
   ]
  },
  {
   "cell_type": "code",
   "execution_count": 41,
   "id": "5a63c162",
   "metadata": {},
   "outputs": [
    {
     "data": {
      "text/plain": [
       "'ell'"
      ]
     },
     "execution_count": 41,
     "metadata": {},
     "output_type": "execute_result"
    }
   ],
   "source": [
    "names = \"hello\"\n",
    "names[1:-1]"
   ]
  },
  {
   "cell_type": "markdown",
   "id": "b1c424a8",
   "metadata": {},
   "source": [
    "#### Others example"
   ]
  },
  {
   "cell_type": "code",
   "execution_count": 43,
   "id": "21f5801f",
   "metadata": {},
   "outputs": [
    {
     "name": "stdout",
     "output_type": "stream",
     "text": [
      "8\n"
     ]
    }
   ],
   "source": [
    "list = [1, 1, 2, 3, 5, 8, 13]\n",
    "print(list[list[4]])"
   ]
  },
  {
   "cell_type": "code",
   "execution_count": 44,
   "id": "1d8c0437",
   "metadata": {},
   "outputs": [
    {
     "name": "stdout",
     "output_type": "stream",
     "text": [
      "2\n",
      "4\n",
      "6\n",
      "8\n",
      "10\n"
     ]
    }
   ],
   "source": [
    "for i in range(10):\n",
    "  if not i % 2 == 0:\n",
    "    print(i+1)"
   ]
  },
  {
   "cell_type": "code",
   "execution_count": 45,
   "id": "14e0d346",
   "metadata": {},
   "outputs": [
    {
     "name": "stdout",
     "output_type": "stream",
     "text": [
      "13\n"
     ]
    }
   ],
   "source": [
    "x = [6, 4, 2, 9]\n",
    "x = x[::-1]\n",
    "print(x[0]+x[2])"
   ]
  },
  {
   "cell_type": "markdown",
   "id": "a1f958f9",
   "metadata": {},
   "source": [
    "# Problem\n",
    "\n",
    "#### Sum of Consecutive Numbers\n",
    "\n",
    "\n",
    "No one likes homework, but your math teacher has given you an assignment to find the sum of the first N numbers.\n",
    "\n",
    "Let’s save some time by creating a program to do the calculation for you!\n",
    "\n",
    "Take a number N as input and output the sum of all numbers from 1 to N (including N).\n",
    "\n",
    "**Sample Input**  \n",
    "100\n",
    "\n",
    "**Sample Output**    \n",
    "5050"
   ]
  },
  {
   "cell_type": "markdown",
   "id": "8b569086",
   "metadata": {},
   "source": [
    "# Solution"
   ]
  },
  {
   "cell_type": "code",
   "execution_count": 47,
   "id": "5cf70be1",
   "metadata": {},
   "outputs": [
    {
     "name": "stdout",
     "output_type": "stream",
     "text": [
      "100\n",
      "5050\n"
     ]
    }
   ],
   "source": [
    "N = int(input())\n",
    "sum = 0\n",
    "\n",
    "for num in range(1, N + 1):\n",
    "    sum += num\n",
    "\n",
    "print(sum)"
   ]
  },
  {
   "cell_type": "code",
   "execution_count": null,
   "id": "d86f9778",
   "metadata": {},
   "outputs": [],
   "source": []
  }
 ],
 "metadata": {
  "kernelspec": {
   "display_name": "Python 3 (ipykernel)",
   "language": "python",
   "name": "python3"
  },
  "language_info": {
   "codemirror_mode": {
    "name": "ipython",
    "version": 3
   },
   "file_extension": ".py",
   "mimetype": "text/x-python",
   "name": "python",
   "nbconvert_exporter": "python",
   "pygments_lexer": "ipython3",
   "version": "3.10.7"
  }
 },
 "nbformat": 4,
 "nbformat_minor": 5
}
