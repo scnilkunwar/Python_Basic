{
 "cells": [
  {
   "cell_type": "markdown",
   "id": "5c5133c3-73d8-4b35-8d33-214d69ca6588",
   "metadata": {},
   "source": [
    "# Print\n",
    "In Python, we use the print function to output text.\n",
    "The print command is the easiest way to send a specified message to the screen or other display device.\n",
    "This message or output can be a number, text, or the result of a calculation."
   ]
  },
  {
   "cell_type": "code",
   "execution_count": 1,
   "id": "ce7b20c3-7f5b-4bda-8d84-eeeb465625c9",
   "metadata": {},
   "outputs": [
    {
     "name": "stdout",
     "output_type": "stream",
     "text": [
      "hello world!\n"
     ]
    }
   ],
   "source": [
    "print(\"hello world!\")"
   ]
  },
  {
   "cell_type": "code",
   "execution_count": 2,
   "id": "543c55b3-599a-4ff8-b724-4b554cf20f71",
   "metadata": {},
   "outputs": [
    {
     "name": "stdout",
     "output_type": "stream",
     "text": [
      "this is my socond program\n"
     ]
    }
   ],
   "source": [
    "print(\"this is my socond program\")"
   ]
  },
  {
   "cell_type": "code",
   "execution_count": 3,
   "id": "4aef2868-0263-4dc9-bbda-cbbf6a4ab07a",
   "metadata": {},
   "outputs": [
    {
     "name": "stdout",
     "output_type": "stream",
     "text": [
      "2\n"
     ]
    }
   ],
   "source": [
    "print(2)"
   ]
  },
  {
   "cell_type": "code",
   "execution_count": 4,
   "id": "7abb4f75-dd1b-416d-8aab-f94a9c2b75a0",
   "metadata": {},
   "outputs": [
    {
     "name": "stdout",
     "output_type": "stream",
     "text": [
      "2.4\n"
     ]
    }
   ],
   "source": [
    "print(2.4)"
   ]
  },
  {
   "cell_type": "code",
   "execution_count": 5,
   "id": "d9b7ab50-1ab0-4293-bb90-02482dac8fa3",
   "metadata": {},
   "outputs": [
    {
     "name": "stdout",
     "output_type": "stream",
     "text": [
      "12\n"
     ]
    }
   ],
   "source": [
    "print(3*4)"
   ]
  },
  {
   "cell_type": "code",
   "execution_count": 6,
   "id": "fbff8242-cb02-4ed3-8d71-f5c0d4a2dafe",
   "metadata": {},
   "outputs": [
    {
     "name": "stdout",
     "output_type": "stream",
     "text": [
      "5\n"
     ]
    }
   ],
   "source": [
    "print(2 + 3)"
   ]
  },
  {
   "cell_type": "code",
   "execution_count": 7,
   "id": "34066ba0-f7a0-4b8e-9975-0f06acbdca42",
   "metadata": {},
   "outputs": [
    {
     "name": "stdout",
     "output_type": "stream",
     "text": [
      "27\n"
     ]
    }
   ],
   "source": [
    "print(3**3) #power"
   ]
  },
  {
   "cell_type": "code",
   "execution_count": 8,
   "id": "59a473ee-3232-46ba-a63b-437236783a4f",
   "metadata": {},
   "outputs": [
    {
     "name": "stdout",
     "output_type": "stream",
     "text": [
      "2.3333333333333335\n"
     ]
    }
   ],
   "source": [
    "print(7/3)"
   ]
  },
  {
   "cell_type": "code",
   "execution_count": 9,
   "id": "9362e210-c0ac-4e90-b602-0f9e071c9bd5",
   "metadata": {},
   "outputs": [
    {
     "name": "stdout",
     "output_type": "stream",
     "text": [
      "2\n"
     ]
    }
   ],
   "source": [
    "print(7//3) #integer division"
   ]
  },
  {
   "cell_type": "markdown",
   "id": "d559ac33-c8e4-46f3-b1a5-9ddce39a235e",
   "metadata": {},
   "source": [
    "# Data Types"
   ]
  },
  {
   "cell_type": "code",
   "execution_count": 10,
   "id": "44e93f85-f7f6-4e31-878a-c8c2750cba16",
   "metadata": {},
   "outputs": [
    {
     "data": {
      "text/plain": [
       "str"
      ]
     },
     "execution_count": 10,
     "metadata": {},
     "output_type": "execute_result"
    }
   ],
   "source": [
    "#string\n",
    "#enclosed by quotes\n",
    "eggs = \"my name is sunil\"\n",
    "type(eggs)"
   ]
  },
  {
   "cell_type": "code",
   "execution_count": 11,
   "id": "f24dba69-0444-4980-b360-7e789923929f",
   "metadata": {},
   "outputs": [
    {
     "data": {
      "text/plain": [
       "int"
      ]
     },
     "execution_count": 11,
     "metadata": {},
     "output_type": "execute_result"
    }
   ],
   "source": [
    "#integers\n",
    "#whole numbers\n",
    "eggs = 596\n",
    "type(eggs)"
   ]
  },
  {
   "cell_type": "code",
   "execution_count": 12,
   "id": "9f70866e-a77d-4631-bedf-0c71629471dd",
   "metadata": {},
   "outputs": [
    {
     "data": {
      "text/plain": [
       "float"
      ]
     },
     "execution_count": 12,
     "metadata": {},
     "output_type": "execute_result"
    }
   ],
   "source": [
    "#float\n",
    "#decimal point\n",
    "pi = 3.14\n",
    "type(pi)"
   ]
  },
  {
   "cell_type": "markdown",
   "id": "851a5408-8369-4c28-a354-ea7d38cffb4e",
   "metadata": {},
   "source": [
    "# Operation"
   ]
  },
  {
   "cell_type": "code",
   "execution_count": 13,
   "id": "86adc72b-fea6-4753-8f77-446e4bd45605",
   "metadata": {},
   "outputs": [
    {
     "data": {
      "text/plain": [
       "9"
      ]
     },
     "execution_count": 13,
     "metadata": {},
     "output_type": "execute_result"
    }
   ],
   "source": [
    "#addition\n",
    "4 + 5"
   ]
  },
  {
   "cell_type": "code",
   "execution_count": 14,
   "id": "e3cc1a31-5de9-4ce4-a85d-0028e0d00957",
   "metadata": {},
   "outputs": [
    {
     "data": {
      "text/plain": [
       "45"
      ]
     },
     "execution_count": 14,
     "metadata": {},
     "output_type": "execute_result"
    }
   ],
   "source": [
    "#multiply\n",
    "5 * 9"
   ]
  },
  {
   "cell_type": "code",
   "execution_count": 15,
   "id": "825e8300-9689-4973-ba1e-59fca24e2411",
   "metadata": {},
   "outputs": [
    {
     "data": {
      "text/plain": [
       "4.5"
      ]
     },
     "execution_count": 15,
     "metadata": {},
     "output_type": "execute_result"
    }
   ],
   "source": [
    "#float division\n",
    "9 / 2"
   ]
  },
  {
   "cell_type": "code",
   "execution_count": 16,
   "id": "77bb9c3e-e892-48ec-9902-7a41e988aca4",
   "metadata": {},
   "outputs": [
    {
     "data": {
      "text/plain": [
       "2"
      ]
     },
     "execution_count": 16,
     "metadata": {},
     "output_type": "execute_result"
    }
   ],
   "source": [
    "#floor division\n",
    "#quotient\n",
    "8 // 3"
   ]
  },
  {
   "cell_type": "code",
   "execution_count": 17,
   "id": "eab6594c-1aab-4f39-8325-0c4c37d4ac1b",
   "metadata": {},
   "outputs": [
    {
     "data": {
      "text/plain": [
       "1"
      ]
     },
     "execution_count": 17,
     "metadata": {},
     "output_type": "execute_result"
    }
   ],
   "source": [
    "#remainder\n",
    "#modulo operation\n",
    "7 % 2"
   ]
  },
  {
   "cell_type": "code",
   "execution_count": 18,
   "id": "89cb603b-17dc-48f0-ae90-5dfcf67263fc",
   "metadata": {},
   "outputs": [
    {
     "data": {
      "text/plain": [
       "2"
      ]
     },
     "execution_count": 18,
     "metadata": {},
     "output_type": "execute_result"
    }
   ],
   "source": [
    "#multiple operations\n",
    "(9 + 5) % 3"
   ]
  },
  {
   "cell_type": "code",
   "execution_count": 19,
   "id": "a4520587-bfdf-4a98-a784-abb858ca03ae",
   "metadata": {},
   "outputs": [
    {
     "data": {
      "text/plain": [
       "4.0"
      ]
     },
     "execution_count": 19,
     "metadata": {},
     "output_type": "execute_result"
    }
   ],
   "source": [
    "6 // 1.5"
   ]
  },
  {
   "cell_type": "markdown",
   "id": "04094053-e18d-4edb-8b19-267e48f4717f",
   "metadata": {},
   "source": [
    "# Problem:\n",
    "\n",
    "Flight Time\n",
    "\n",
    "You need to calculate the flight time of an upcoming trip. You are flying from LA to Sydney, covering a distance of 7425 miles, the plane flies at an average speed of 550 miles an hour.\n",
    "\n",
    "Calculate and output the total flight time in hours.\n",
    "\n",
    "Hint\n",
    "The result should be a float."
   ]
  },
  {
   "cell_type": "markdown",
   "id": "54bce66c",
   "metadata": {},
   "source": [
    "# Solution"
   ]
  },
  {
   "cell_type": "code",
   "execution_count": 1,
   "id": "0ae4f894-b4fe-440f-9c54-e88d03461153",
   "metadata": {},
   "outputs": [
    {
     "name": "stdout",
     "output_type": "stream",
     "text": [
      "13.5\n"
     ]
    }
   ],
   "source": [
    "distance = 7425\n",
    "speed = 550\n",
    "time = distance / speed\n",
    "print(time)"
   ]
  },
  {
   "cell_type": "code",
   "execution_count": null,
   "id": "cf970502",
   "metadata": {},
   "outputs": [],
   "source": []
  }
 ],
 "metadata": {
  "celltoolbar": "Raw Cell Format",
  "kernelspec": {
   "display_name": "Python 3 (ipykernel)",
   "language": "python",
   "name": "python3"
  },
  "language_info": {
   "codemirror_mode": {
    "name": "ipython",
    "version": 3
   },
   "file_extension": ".py",
   "mimetype": "text/x-python",
   "name": "python",
   "nbconvert_exporter": "python",
   "pygments_lexer": "ipython3",
   "version": "3.10.7"
  }
 },
 "nbformat": 4,
 "nbformat_minor": 5
}
