{
 "cells": [
  {
   "cell_type": "markdown",
   "id": "f0863327",
   "metadata": {},
   "source": [
    "# Function\n",
    "A function has a **name** and can have **arguments**.\n",
    "\n",
    "Functions can have multiple arguments.  \n",
    "For example, ```range(2, 20)``` has two arguments, 2 and 20.  \n",
    "Function arguments need to be separated by **commas**.\n",
    "\n",
    "You **call** the function by using its name, followed by **parentheses**, which **enclose** the arguments.  \n",
    "For example, we call the print function with a string argument to generate output:"
   ]
  },
  {
   "cell_type": "code",
   "execution_count": 1,
   "id": "446bf70a",
   "metadata": {},
   "outputs": [
    {
     "name": "stdout",
     "output_type": "stream",
     "text": [
      "hello\n"
     ]
    }
   ],
   "source": [
    "print('hello')"
   ]
  },
  {
   "cell_type": "markdown",
   "id": "173adbf0",
   "metadata": {},
   "source": [
    "# List funtcions\n",
    "\n",
    "## len()\n",
    "```len()``` lets you get the number of items in a list like objects"
   ]
  },
  {
   "cell_type": "code",
   "execution_count": 2,
   "id": "298f075e",
   "metadata": {},
   "outputs": [
    {
     "name": "stdout",
     "output_type": "stream",
     "text": [
      "4\n",
      "5\n"
     ]
    }
   ],
   "source": [
    "lst = [1, 4, 9, 16]\n",
    "st = 'sunil'\n",
    "print(len(lst))\n",
    "print(len(st))"
   ]
  },
  {
   "cell_type": "code",
   "execution_count": 3,
   "id": "e8541e3f",
   "metadata": {},
   "outputs": [
    {
     "data": {
      "text/plain": [
       "19"
      ]
     },
     "execution_count": 3,
     "metadata": {},
     "output_type": "execute_result"
    }
   ],
   "source": [
    "len(range(5, 100, 5))"
   ]
  },
  {
   "cell_type": "code",
   "execution_count": 4,
   "id": "b5174478",
   "metadata": {},
   "outputs": [
    {
     "name": "stdout",
     "output_type": "stream",
     "text": [
      "4\n"
     ]
    }
   ],
   "source": [
    "letters = [\"a\", \"b\", \"c\"]\n",
    "letters += [\"d\"]\n",
    "print(len(letters))"
   ]
  },
  {
   "cell_type": "code",
   "execution_count": 5,
   "id": "e0b1abb4",
   "metadata": {},
   "outputs": [
    {
     "name": "stdout",
     "output_type": "stream",
     "text": [
      "6\n"
     ]
    }
   ],
   "source": [
    "x = \"abc\"\n",
    "x *= 2\n",
    "print(len(x))"
   ]
  },
  {
   "cell_type": "markdown",
   "id": "5ff27462",
   "metadata": {},
   "source": [
    "## append()\n",
    "The ```append()``` function is used to add an item to the end of the list.  \n",
    "Te function is called using the list name, followed by a dot."
   ]
  },
  {
   "cell_type": "code",
   "execution_count": 6,
   "id": "e2c8f933",
   "metadata": {},
   "outputs": [
    {
     "name": "stdout",
     "output_type": "stream",
     "text": [
      "[1, 2, 3, 4, 5]\n"
     ]
    }
   ],
   "source": [
    "lst = [1, 2, 3, 4]\n",
    "lst.append(5)\n",
    "print(lst)"
   ]
  },
  {
   "cell_type": "markdown",
   "id": "bb57ad92",
   "metadata": {},
   "source": [
    "## insert()\n",
    "```insert()``` inserts a new item at the given position in the list.\n",
    "\n",
    "The first argument is the position index, while the second parameter is the item to insert at that position."
   ]
  },
  {
   "cell_type": "code",
   "execution_count": 7,
   "id": "6dfaeadd",
   "metadata": {},
   "outputs": [
    {
     "data": {
      "text/plain": [
       "[10, 6, 9, 8, 7]"
      ]
     },
     "execution_count": 7,
     "metadata": {},
     "output_type": "execute_result"
    }
   ],
   "source": [
    "lst = [10, 9, 8, 7]\n",
    "lst.insert(1, 6)\n",
    "lst"
   ]
  },
  {
   "cell_type": "code",
   "execution_count": 8,
   "id": "c42004d6",
   "metadata": {},
   "outputs": [
    {
     "name": "stdout",
     "output_type": "stream",
     "text": [
      "7\n"
     ]
    }
   ],
   "source": [
    "nums = [9, 8, 7, 6, 5]\n",
    "nums.append(4)\n",
    "nums.insert(2, 11)\n",
    "print(len(nums))"
   ]
  },
  {
   "cell_type": "markdown",
   "id": "86ca4f92",
   "metadata": {},
   "source": [
    "## index() \n",
    "```index()``` finds the first occurrence of a list item and returns its index."
   ]
  },
  {
   "cell_type": "code",
   "execution_count": 9,
   "id": "2d58dfe2",
   "metadata": {},
   "outputs": [
    {
     "name": "stdout",
     "output_type": "stream",
     "text": [
      "1\n"
     ]
    }
   ],
   "source": [
    "x = [2, 4, 5, 7, 4]\n",
    "y = x.index(4)\n",
    "print(y)"
   ]
  },
  {
   "cell_type": "code",
   "execution_count": 10,
   "id": "3d91a4ec",
   "metadata": {},
   "outputs": [
    {
     "ename": "ValueError",
     "evalue": "3 is not in list",
     "output_type": "error",
     "traceback": [
      "\u001b[1;31m---------------------------------------------------------------------------\u001b[0m",
      "\u001b[1;31mValueError\u001b[0m                                Traceback (most recent call last)",
      "Cell \u001b[1;32mIn [10], line 1\u001b[0m\n\u001b[1;32m----> 1\u001b[0m z \u001b[38;5;241m=\u001b[39m x\u001b[38;5;241m.\u001b[39mindex(\u001b[38;5;241m3\u001b[39m)\n\u001b[0;32m      2\u001b[0m z\n",
      "\u001b[1;31mValueError\u001b[0m: 3 is not in list"
     ]
    }
   ],
   "source": [
    "z = x.index(3)\n",
    "z"
   ]
  },
  {
   "cell_type": "code",
   "execution_count": 11,
   "id": "cb2283f6",
   "metadata": {},
   "outputs": [
    {
     "name": "stdout",
     "output_type": "stream",
     "text": [
      "2\n"
     ]
    }
   ],
   "source": [
    "#  can be applied to string\n",
    "\n",
    "st = \"python\"\n",
    "print(st.index('t'))"
   ]
  },
  {
   "cell_type": "markdown",
   "id": "23008c5c",
   "metadata": {},
   "source": [
    "## max(list)\n",
    "Returns the maximum value.\n",
    "## min(list)\n",
    "Returns the minimum value."
   ]
  },
  {
   "cell_type": "code",
   "execution_count": 12,
   "id": "db0d07e4",
   "metadata": {},
   "outputs": [
    {
     "name": "stdout",
     "output_type": "stream",
     "text": [
      "1\n",
      "5\n"
     ]
    }
   ],
   "source": [
    "nums = [1, 3, 5, 2, 4]\n",
    "mn = min(nums)\n",
    "mx = max(nums)\n",
    "print(mn)\n",
    "print(mx)"
   ]
  },
  {
   "cell_type": "code",
   "execution_count": 13,
   "id": "e3492110",
   "metadata": {},
   "outputs": [
    {
     "name": "stdout",
     "output_type": "stream",
     "text": [
      "h\n",
      "y\n"
     ]
    }
   ],
   "source": [
    "#  can be applied to string\n",
    "\n",
    "print(min(st))\n",
    "print(max(st))"
   ]
  },
  {
   "cell_type": "markdown",
   "id": "1ff1d9af",
   "metadata": {},
   "source": [
    "## Others functions\n",
    "\n",
    "```list.count(item)```: Returns a count of how many times an item occurs in a list.   \n",
    "```list.remove(item)```: Removes an item from a list.  \n",
    "```list.reverse()```: Reverses items in a list."
   ]
  },
  {
   "cell_type": "code",
   "execution_count": 14,
   "id": "c9e0a45f",
   "metadata": {},
   "outputs": [
    {
     "name": "stdout",
     "output_type": "stream",
     "text": [
      "4\n"
     ]
    }
   ],
   "source": [
    "ls = [2, 4, 6, 4, 2, 5, 6, 7, 8, 2, 2, 5]\n",
    "count = ls.count(2)\n",
    "print(count)"
   ]
  },
  {
   "cell_type": "code",
   "execution_count": 15,
   "id": "e3b72829",
   "metadata": {},
   "outputs": [
    {
     "name": "stdout",
     "output_type": "stream",
     "text": [
      "Before removing 4:  [2, 4, 6, 4, 2, 5, 6, 7, 8, 2, 2, 5]\n",
      "After removing 4:  [2, 6, 4, 2, 5, 6, 7, 8, 2, 2, 5]\n"
     ]
    }
   ],
   "source": [
    "print('Before removing 4: ', ls)\n",
    "ls.remove(4)\n",
    "print('After removing 4: ', ls) # it only removes the first occurance of the items"
   ]
  },
  {
   "cell_type": "code",
   "execution_count": 16,
   "id": "cf99a30a",
   "metadata": {},
   "outputs": [
    {
     "name": "stdout",
     "output_type": "stream",
     "text": [
      "[2, 6, 4, 2, 5, 6, 7, 8, 2, 2, 5]\n",
      "Reversed:  [5, 2, 2, 8, 7, 6, 5, 2, 4, 6, 2]\n"
     ]
    }
   ],
   "source": [
    "print(ls)\n",
    "ls.reverse()\n",
    "print('Reversed: ', ls)"
   ]
  },
  {
   "cell_type": "code",
   "execution_count": 17,
   "id": "9e8dc222",
   "metadata": {},
   "outputs": [
    {
     "name": "stdout",
     "output_type": "stream",
     "text": [
      "2\n"
     ]
    }
   ],
   "source": [
    "# in string\n",
    "\n",
    "st = 'hello python'\n",
    "print(st.count('h'))"
   ]
  },
  {
   "cell_type": "code",
   "execution_count": 18,
   "id": "89229ca7",
   "metadata": {},
   "outputs": [
    {
     "name": "stdout",
     "output_type": "stream",
     "text": [
      "4\n"
     ]
    }
   ],
   "source": [
    "lst = [8, 4, 2, 6]\n",
    "lst.remove(2)\n",
    "print(len(lst) + lst.count(6))"
   ]
  },
  {
   "cell_type": "code",
   "execution_count": 19,
   "id": "cae45c34",
   "metadata": {},
   "outputs": [
    {
     "name": "stdout",
     "output_type": "stream",
     "text": [
      "4\n"
     ]
    }
   ],
   "source": [
    "nums = [2,4,8,9,5]\n",
    "\n",
    "nums.insert(1, 3)\n",
    "nums.remove(9)\n",
    "nums.insert(0, nums.count(8))\n",
    "print(nums[3])"
   ]
  },
  {
   "cell_type": "markdown",
   "id": "1df4d0f1",
   "metadata": {},
   "source": [
    "# String Functions\n",
    "\n",
    "## format()\n",
    "Strings have a ```format()``` function, which enables values to be embedded in it, using placeholders."
   ]
  },
  {
   "cell_type": "code",
   "execution_count": 20,
   "id": "516e3fa3",
   "metadata": {},
   "outputs": [
    {
     "name": "stdout",
     "output_type": "stream",
     "text": [
      "The value of a = 1, and b = 2\n"
     ]
    }
   ],
   "source": [
    "a = 1\n",
    "b = 2\n",
    "print(\"The value of a = {}, and b = {}\".format(a, b))"
   ]
  },
  {
   "cell_type": "code",
   "execution_count": 21,
   "id": "c2ad8816",
   "metadata": {},
   "outputs": [
    {
     "name": "stdout",
     "output_type": "stream",
     "text": [
      "The value of a = 1, and b = 2\n"
     ]
    }
   ],
   "source": [
    "# this can be written as\n",
    "a = 1\n",
    "b = 2\n",
    "print(\"The value of a = {0}, and b = {1}\".format(a, b))"
   ]
  },
  {
   "cell_type": "code",
   "execution_count": 24,
   "id": "07dd8ee5",
   "metadata": {},
   "outputs": [
    {
     "name": "stdout",
     "output_type": "stream",
     "text": [
      "The values are 2, 1\n"
     ]
    }
   ],
   "source": [
    "#  if place holders are reversed\n",
    "a = 1\n",
    "b = 2\n",
    "print(\"The values are {1}, {0}\".format(a, b))"
   ]
  },
  {
   "cell_type": "code",
   "execution_count": 25,
   "id": "28f83410",
   "metadata": {},
   "outputs": [
    {
     "name": "stdout",
     "output_type": "stream",
     "text": [
      "abracadabra\n"
     ]
    }
   ],
   "source": [
    "print(\"{0}{1}{0}\".format(\"abra\", \"cad\"))"
   ]
  },
  {
   "cell_type": "code",
   "execution_count": 27,
   "id": "8422f519",
   "metadata": {},
   "outputs": [
    {
     "name": "stdout",
     "output_type": "stream",
     "text": [
      "some values are 5, 6\n"
     ]
    }
   ],
   "source": [
    "#  naming place holders\n",
    "st = 'some values are {x}, {y}'.format(x = 5, y = 6)\n",
    "print(st)"
   ]
  },
  {
   "cell_type": "code",
   "execution_count": 29,
   "id": "022735cc",
   "metadata": {},
   "outputs": [
    {
     "name": "stdout",
     "output_type": "stream",
     "text": [
      "7, 9, 5\n"
     ]
    }
   ],
   "source": [
    "st = \"{c}, {b}, {a}\".format(a = 5, b = 9, c = 7)\n",
    "print(st)"
   ]
  },
  {
   "cell_type": "markdown",
   "id": "6bf10c29",
   "metadata": {},
   "source": [
    "## join()\n",
    "```join()``` joins a list of strings with another string as a separator."
   ]
  },
  {
   "cell_type": "code",
   "execution_count": 32,
   "id": "bf7a43ed",
   "metadata": {},
   "outputs": [
    {
     "name": "stdout",
     "output_type": "stream",
     "text": [
      "hello python lover !\n"
     ]
    }
   ],
   "source": [
    "str_lst = ['hello', 'python', 'lover', '!']\n",
    "joined_str = ' '.join(str_lst)\n",
    "print(joined_str)"
   ]
  },
  {
   "cell_type": "code",
   "execution_count": 33,
   "id": "a053d2dc",
   "metadata": {},
   "outputs": [
    {
     "name": "stdout",
     "output_type": "stream",
     "text": [
      "hello, python, lover, !\n"
     ]
    }
   ],
   "source": [
    "str_lst = ['hello', 'python', 'lover', '!']\n",
    "joined_str = ', '.join(str_lst)\n",
    "print(joined_str)"
   ]
  },
  {
   "cell_type": "markdown",
   "id": "9e01861c",
   "metadata": {},
   "source": [
    "## split()\n",
    "\n",
    "```split()``` is the opposite of ```join()```.  \n",
    "It turns a string with a certain separator into a list."
   ]
  },
  {
   "cell_type": "code",
   "execution_count": 35,
   "id": "d8ffdb55",
   "metadata": {},
   "outputs": [
    {
     "name": "stdout",
     "output_type": "stream",
     "text": [
      "['hello', ' python', ' lover', ' !']\n"
     ]
    }
   ],
   "source": [
    "st = 'hello, python, lover, !'\n",
    "split_str = st.split(',')\n",
    "print(split_str)"
   ]
  },
  {
   "cell_type": "code",
   "execution_count": 37,
   "id": "9a36161b",
   "metadata": {},
   "outputs": [
    {
     "name": "stdout",
     "output_type": "stream",
     "text": [
      "['hello', 'python', 'lover', '!']\n",
      "python\n"
     ]
    }
   ],
   "source": [
    "st = 'hello python lover !'\n",
    "split_str = st.split(' ')\n",
    "print(split_str)\n",
    "print(split_str[1])"
   ]
  },
  {
   "cell_type": "markdown",
   "id": "44a477cd",
   "metadata": {},
   "source": [
    "## replace()\n",
    "```replace()``` replaces one substring in a string with another."
   ]
  },
  {
   "cell_type": "code",
   "execution_count": 39,
   "id": "38e35c68",
   "metadata": {},
   "outputs": [
    {
     "name": "stdout",
     "output_type": "stream",
     "text": [
      "Pepal\n"
     ]
    }
   ],
   "source": [
    "st = 'Nepal'\n",
    "st1 = st.replace('N', 'P')\n",
    "print(st1)"
   ]
  },
  {
   "cell_type": "code",
   "execution_count": 47,
   "id": "4ecb9f67",
   "metadata": {},
   "outputs": [
    {
     "name": "stdout",
     "output_type": "stream",
     "text": [
      "C++ is hard.\n"
     ]
    }
   ],
   "source": [
    "txt = 'Python is easy.'\n",
    "print(txt.replace('Python', 'C++').replace('easy', 'hard'))"
   ]
  },
  {
   "cell_type": "code",
   "execution_count": 40,
   "id": "4253332e",
   "metadata": {},
   "outputs": [
    {
     "name": "stdout",
     "output_type": "stream",
     "text": [
      "three three was a race horse, two two was one too.\n"
     ]
    }
   ],
   "source": [
    "txt = \"one one was a race horse, two two was one too.\"\n",
    "\n",
    "x = txt.replace(\"one\", \"three\", 2)\n",
    "\n",
    "print(x)"
   ]
  },
  {
   "cell_type": "markdown",
   "id": "2736675e",
   "metadata": {},
   "source": [
    "```lower()``` and ```upper()``` change the case of a string to lowercase and uppercase."
   ]
  },
  {
   "cell_type": "code",
   "execution_count": 48,
   "id": "e815a27c",
   "metadata": {},
   "outputs": [
    {
     "name": "stdout",
     "output_type": "stream",
     "text": [
      "HELLO\n"
     ]
    }
   ],
   "source": [
    "l_st = 'Hello'\n",
    "print(l_st.upper())"
   ]
  },
  {
   "cell_type": "code",
   "execution_count": 49,
   "id": "e8d5f61b",
   "metadata": {},
   "outputs": [
    {
     "name": "stdout",
     "output_type": "stream",
     "text": [
      "python\n"
     ]
    }
   ],
   "source": [
    "u_st = 'PYTHON'\n",
    "print(u_st.lower())"
   ]
  },
  {
   "cell_type": "markdown",
   "id": "50ac3ee3",
   "metadata": {},
   "source": [
    "# User defined functions\n",
    "You can create your own functions by using the **def** statement.\n",
    "\n",
    "Here’s an example of a function named **my_func**. It takes no **arguments**, and prints **\"spam\"** three times."
   ]
  },
  {
   "cell_type": "code",
   "execution_count": 51,
   "id": "c40a2ff2",
   "metadata": {},
   "outputs": [
    {
     "name": "stdout",
     "output_type": "stream",
     "text": [
      "spam\n",
      "spam\n",
      "spam\n",
      "spam\n",
      "spam\n",
      "spam\n",
      "spam\n",
      "spam\n",
      "spam\n"
     ]
    }
   ],
   "source": [
    "def my_func():\n",
    "    print('spam')\n",
    "    print('spam')\n",
    "    print('spam')\n",
    "    \n",
    "my_func()\n",
    "my_func() #multiple call\n",
    "my_func()"
   ]
  },
  {
   "cell_type": "code",
   "execution_count": 52,
   "id": "09b13453",
   "metadata": {},
   "outputs": [
    {
     "name": "stdout",
     "output_type": "stream",
     "text": [
      "1\n",
      "2\n",
      "1\n",
      "2\n"
     ]
    }
   ],
   "source": [
    "def foo():\n",
    "   print(1)\n",
    "   print(2)\n",
    "\n",
    "foo()\n",
    "foo()"
   ]
  },
  {
   "cell_type": "markdown",
   "id": "48560dfb",
   "metadata": {},
   "source": [
    "## Function Arguments\n",
    "Functions can take **arguments**, which can be used to generate the function output."
   ]
  },
  {
   "cell_type": "code",
   "execution_count": 53,
   "id": "e609457b",
   "metadata": {},
   "outputs": [
    {
     "name": "stdout",
     "output_type": "stream",
     "text": [
      "2\n",
      "6\n"
     ]
    }
   ],
   "source": [
    "def double(num):\n",
    "    print(num * 2)\n",
    "    \n",
    "double(1)\n",
    "double(3)"
   ]
  },
  {
   "cell_type": "code",
   "execution_count": 54,
   "id": "ddf26b80",
   "metadata": {},
   "outputs": [
    {
     "name": "stdout",
     "output_type": "stream",
     "text": [
      "15\n",
      "42\n"
     ]
    }
   ],
   "source": [
    "def mult(x , y):  #multiple arguments\n",
    "    print(x * y)\n",
    "    \n",
    "mult(3, 5)\n",
    "mult(6, 7)"
   ]
  },
  {
   "cell_type": "code",
   "execution_count": 55,
   "id": "03142acb",
   "metadata": {},
   "outputs": [
    {
     "name": "stdout",
     "output_type": "stream",
     "text": [
      "A18\n"
     ]
    }
   ],
   "source": [
    "def msg(num, ch):\n",
    "  print(ch+str(num))\n",
    "\n",
    "msg(18, 'A')"
   ]
  },
  {
   "cell_type": "markdown",
   "id": "2590de7d",
   "metadata": {},
   "source": [
    "# Returning from Functions\n",
    "Certain functions, such as int or str, return a value instead of outputting it.\n",
    "\n",
    "The returned value can be used later in the code, for example, by getting assigned to a variable.\n",
    "\n",
    "To do this for your defined functions, you can use the **return** statement."
   ]
  },
  {
   "cell_type": "code",
   "execution_count": 58,
   "id": "088c55c2",
   "metadata": {},
   "outputs": [
    {
     "name": "stdout",
     "output_type": "stream",
     "text": [
      "14\n"
     ]
    }
   ],
   "source": [
    "def add(a, b):\n",
    "    return a + b\n",
    "\n",
    "sum = add(6, 8)\n",
    "print(sum)"
   ]
  },
  {
   "cell_type": "code",
   "execution_count": 59,
   "id": "32f39bef",
   "metadata": {},
   "outputs": [
    {
     "name": "stdout",
     "output_type": "stream",
     "text": [
      "7\n"
     ]
    }
   ],
   "source": [
    "def foo(x, y):\n",
    "  if x >= y:\n",
    "    return x\n",
    "  else:\n",
    "    return y\n",
    "\n",
    "x = foo(4, 7)\n",
    "print(x)"
   ]
  },
  {
   "cell_type": "code",
   "execution_count": 60,
   "id": "84bc2703",
   "metadata": {},
   "outputs": [
    {
     "name": "stdout",
     "output_type": "stream",
     "text": [
      "12\n"
     ]
    }
   ],
   "source": [
    "def calc(x, y):\n",
    "   return [x+y, x*y] #returning list or multiple returning\n",
    "\n",
    "res = calc(3, 4)\n",
    "print(res[1])"
   ]
  },
  {
   "cell_type": "code",
   "execution_count": 61,
   "id": "4965d064",
   "metadata": {},
   "outputs": [
    {
     "name": "stdout",
     "output_type": "stream",
     "text": [
      "6\n"
     ]
    }
   ],
   "source": [
    "def sum(x):\n",
    "    res = 0\n",
    "    for i in range(x):\n",
    "        res+=i\n",
    "    return res\n",
    "    \n",
    "print(sum(4))"
   ]
  },
  {
   "cell_type": "code",
   "execution_count": 62,
   "id": "b5280cef",
   "metadata": {},
   "outputs": [
    {
     "name": "stdout",
     "output_type": "stream",
     "text": [
      "0\n"
     ]
    }
   ],
   "source": [
    "def print_nums(x):\n",
    "  for i in range(x):\n",
    "    print(i)\n",
    "    return\n",
    "print_nums(10)"
   ]
  },
  {
   "cell_type": "code",
   "execution_count": 63,
   "id": "283b9b1e",
   "metadata": {},
   "outputs": [
    {
     "name": "stdout",
     "output_type": "stream",
     "text": [
      "3\n"
     ]
    }
   ],
   "source": [
    "def func(x):\n",
    "  res = 0\n",
    "  for i in range(x):\n",
    "     res += i\n",
    "  return res\n",
    "\n",
    "print(func(3))"
   ]
  },
  {
   "cell_type": "markdown",
   "id": "17faa7e4",
   "metadata": {},
   "source": [
    "# Problem\n",
    "## Search Engine\n",
    "\n",
    "You’re working on a search engine. Watch your back Google!  \n",
    "The given code takes a text and a word as input and passes them to a function called **search()**.  \n",
    "The search() function should return **\"Word found\"** if the word is present in the text, or **\"Word not found\"**, if it’s not.\n",
    "\n",
    "**Sample Input**  \n",
    "\"This is awesome\"  \n",
    "\"awesome\"\n",
    "\n",
    "**Sample Output**  \n",
    "Word found"
   ]
  },
  {
   "cell_type": "markdown",
   "id": "e160ca46",
   "metadata": {},
   "source": [
    "# Solution"
   ]
  },
  {
   "cell_type": "code",
   "execution_count": 64,
   "id": "9cc90144",
   "metadata": {},
   "outputs": [
    {
     "name": "stdout",
     "output_type": "stream",
     "text": [
      "hello python lovers\n",
      "hello\n",
      "Word found\n"
     ]
    }
   ],
   "source": [
    "def search(text, word):\n",
    "    if word in text:\n",
    "        return \"Word found\"\n",
    "    return \"Word not found\"\n",
    "    \n",
    "text = input()\n",
    "word = input()\n",
    "\n",
    "print(search(text, word))"
   ]
  },
  {
   "cell_type": "code",
   "execution_count": null,
   "id": "765d15c9",
   "metadata": {},
   "outputs": [],
   "source": []
  }
 ],
 "metadata": {
  "kernelspec": {
   "display_name": "Python 3 (ipykernel)",
   "language": "python",
   "name": "python3"
  },
  "language_info": {
   "codemirror_mode": {
    "name": "ipython",
    "version": 3
   },
   "file_extension": ".py",
   "mimetype": "text/x-python",
   "name": "python",
   "nbconvert_exporter": "python",
   "pygments_lexer": "ipython3",
   "version": "3.10.7"
  }
 },
 "nbformat": 4,
 "nbformat_minor": 5
}
