{
 "cells": [
  {
   "cell_type": "markdown",
   "id": "cbc3a694",
   "metadata": {},
   "source": [
    "# Variable"
   ]
  },
  {
   "cell_type": "code",
   "execution_count": 1,
   "id": "f541296b",
   "metadata": {},
   "outputs": [
    {
     "name": "stdout",
     "output_type": "stream",
     "text": [
      "5\n"
     ]
    }
   ],
   "source": [
    "# syntax \n",
    "# variable_name = variable_value\n",
    "\n",
    "eggs = 5\n",
    "print(eggs)"
   ]
  },
  {
   "cell_type": "code",
   "execution_count": 2,
   "id": "5f09627d",
   "metadata": {},
   "outputs": [
    {
     "name": "stdout",
     "output_type": "stream",
     "text": [
      "10\n",
      "15\n",
      "125\n"
     ]
    }
   ],
   "source": [
    "print(eggs + 5)\n",
    "print(eggs * 3)\n",
    "print(eggs**3)"
   ]
  },
  {
   "cell_type": "code",
   "execution_count": 5,
   "id": "b4382ba3",
   "metadata": {},
   "outputs": [
    {
     "data": {
      "text/plain": [
       "'string string string '"
      ]
     },
     "execution_count": 5,
     "metadata": {},
     "output_type": "execute_result"
    }
   ],
   "source": [
    "# multiple variables\n",
    "x = 3\n",
    "y = 'string '\n",
    "y * x"
   ]
  },
  {
   "cell_type": "code",
   "execution_count": 6,
   "id": "0a0d51ad",
   "metadata": {},
   "outputs": [
    {
     "ename": "NameError",
     "evalue": "name 'x' is not defined",
     "output_type": "error",
     "traceback": [
      "\u001b[1;31m---------------------------------------------------------------------------\u001b[0m",
      "\u001b[1;31mNameError\u001b[0m                                 Traceback (most recent call last)",
      "Cell \u001b[1;32mIn [6], line 2\u001b[0m\n\u001b[0;32m      1\u001b[0m \u001b[38;5;28;01mdel\u001b[39;00m x   \u001b[38;5;66;03m#  deleting a variable\u001b[39;00m\n\u001b[1;32m----> 2\u001b[0m x\n",
      "\u001b[1;31mNameError\u001b[0m: name 'x' is not defined"
     ]
    }
   ],
   "source": [
    "del x   #  deleting a variable\n",
    "x"
   ]
  },
  {
   "cell_type": "markdown",
   "id": "f17ab5ee",
   "metadata": {},
   "source": [
    "# Input\n",
    "\n",
    "The ```input() ``` function prompts the user for input, and returns what they enter as a string."
   ]
  },
  {
   "cell_type": "code",
   "execution_count": 7,
   "id": "c958778f",
   "metadata": {},
   "outputs": [
    {
     "name": "stdout",
     "output_type": "stream",
     "text": [
      "Sunil\n",
      "Hello, Sunil\n"
     ]
    }
   ],
   "source": [
    "name = input()\n",
    "print('Hello, ' + name)"
   ]
  },
  {
   "cell_type": "code",
   "execution_count": 9,
   "id": "5c4c9522",
   "metadata": {},
   "outputs": [
    {
     "name": "stdout",
     "output_type": "stream",
     "text": [
      "Enter a number: 6\n",
      "You entered 6\n"
     ]
    }
   ],
   "source": [
    "num = input('Enter a number: ')\n",
    "print('You entered ' + num)"
   ]
  },
  {
   "cell_type": "markdown",
   "id": "072f75b4",
   "metadata": {},
   "source": [
    "# Typecasting\n",
    "\n",
    "Changing one data types into another"
   ]
  },
  {
   "cell_type": "code",
   "execution_count": 11,
   "id": "570bdf3e",
   "metadata": {},
   "outputs": [
    {
     "data": {
      "text/plain": [
       "int"
      ]
     },
     "execution_count": 11,
     "metadata": {},
     "output_type": "execute_result"
    }
   ],
   "source": [
    "x = 5 \n",
    "type(x)"
   ]
  },
  {
   "cell_type": "code",
   "execution_count": 12,
   "id": "6c98b364",
   "metadata": {},
   "outputs": [
    {
     "data": {
      "text/plain": [
       "str"
      ]
     },
     "execution_count": 12,
     "metadata": {},
     "output_type": "execute_result"
    }
   ],
   "source": [
    "y = str(x)\n",
    "type(y)"
   ]
  },
  {
   "cell_type": "code",
   "execution_count": 14,
   "id": "7b0ba8b5",
   "metadata": {},
   "outputs": [
    {
     "data": {
      "text/plain": [
       "float"
      ]
     },
     "execution_count": 14,
     "metadata": {},
     "output_type": "execute_result"
    }
   ],
   "source": [
    "z = 6.7\n",
    "type(z)"
   ]
  },
  {
   "cell_type": "code",
   "execution_count": 15,
   "id": "dc2d59eb",
   "metadata": {},
   "outputs": [
    {
     "data": {
      "text/plain": [
       "int"
      ]
     },
     "execution_count": 15,
     "metadata": {},
     "output_type": "execute_result"
    }
   ],
   "source": [
    "a = int(z)\n",
    "type(a)"
   ]
  },
  {
   "cell_type": "code",
   "execution_count": 17,
   "id": "c580c665",
   "metadata": {},
   "outputs": [
    {
     "data": {
      "text/plain": [
       "str"
      ]
     },
     "execution_count": 17,
     "metadata": {},
     "output_type": "execute_result"
    }
   ],
   "source": [
    "b = str(z)\n",
    "type(b)"
   ]
  },
  {
   "cell_type": "code",
   "execution_count": 18,
   "id": "8f011581",
   "metadata": {},
   "outputs": [
    {
     "data": {
      "text/plain": [
       "str"
      ]
     },
     "execution_count": 18,
     "metadata": {},
     "output_type": "execute_result"
    }
   ],
   "source": [
    "c = '9'\n",
    "type(c)"
   ]
  },
  {
   "cell_type": "code",
   "execution_count": 19,
   "id": "46e45ac8",
   "metadata": {},
   "outputs": [
    {
     "data": {
      "text/plain": [
       "int"
      ]
     },
     "execution_count": 19,
     "metadata": {},
     "output_type": "execute_result"
    }
   ],
   "source": [
    "d = int(c)\n",
    "type(d)"
   ]
  },
  {
   "cell_type": "code",
   "execution_count": 22,
   "id": "2a8a17b2",
   "metadata": {},
   "outputs": [
    {
     "name": "stdout",
     "output_type": "stream",
     "text": [
      "Enter a number: 6\n",
      "Square of given number is  36\n"
     ]
    }
   ],
   "source": [
    "num = int(input('Enter a number: '))\n",
    "sq_num = num ** 2\n",
    "print('Square of given number is ', sq_num)"
   ]
  },
  {
   "cell_type": "markdown",
   "id": "d0c82b30",
   "metadata": {},
   "source": [
    "# Inplace operators"
   ]
  },
  {
   "cell_type": "code",
   "execution_count": 25,
   "id": "ee2a27f0",
   "metadata": {},
   "outputs": [
    {
     "name": "stdout",
     "output_type": "stream",
     "text": [
      "9\n",
      "4\n",
      "12\n",
      "2\n"
     ]
    }
   ],
   "source": [
    "x = 7\n",
    "x += 2\n",
    "print(x)\n",
    "x -= 5\n",
    "print(x)\n",
    "x *= 3\n",
    "print(x)\n",
    "x %= 5\n",
    "print(x)\n"
   ]
  },
  {
   "cell_type": "code",
   "execution_count": null,
   "id": "7ecbc4fb",
   "metadata": {},
   "outputs": [],
   "source": []
  }
 ],
 "metadata": {
  "kernelspec": {
   "display_name": "Python 3 (ipykernel)",
   "language": "python",
   "name": "python3"
  },
  "language_info": {
   "codemirror_mode": {
    "name": "ipython",
    "version": 3
   },
   "file_extension": ".py",
   "mimetype": "text/x-python",
   "name": "python",
   "nbconvert_exporter": "python",
   "pygments_lexer": "ipython3",
   "version": "3.10.7"
  }
 },
 "nbformat": 4,
 "nbformat_minor": 5
}
